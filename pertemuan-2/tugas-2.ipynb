{
 "cells": [
  {
   "cell_type": "markdown",
   "metadata": {},
   "source": [
    "# Pertemuan 2 - Desain dan Analisis Algoritma\n",
    "---\n",
    "\n",
    "`Nama:` Muhammad Satrio\n",
    "\n",
    "`NIM:` 2022071059"
   ]
  },
  {
   "cell_type": "markdown",
   "metadata": {},
   "source": [
    "## Import library numpy"
   ]
  },
  {
   "cell_type": "code",
   "execution_count": 38,
   "metadata": {},
   "outputs": [],
   "source": [
    "import numpy as np"
   ]
  },
  {
   "cell_type": "markdown",
   "metadata": {},
   "source": [
    "Tanpa menggunakan *library numpy*, ketika kita ingin melakukan operasi aritmatika seperti penjumlahan pada array, nilai yang ada di dalamnya akan dianggap seperti karakter dan python hanya akan menggabungkan keduanya."
   ]
  },
  {
   "cell_type": "code",
   "execution_count": null,
   "metadata": {},
   "outputs": [],
   "source": [
    "a = [1, 2, 3]\n",
    "b = [4, 5, 6]\n",
    "\n",
    "hasil = a + b\n",
    "print(hasil) # [1, 2, 3, 4, 5, 6]"
   ]
  },
  {
   "cell_type": "markdown",
   "metadata": {},
   "source": [
    "Jika kita ingin melakukan penjumlahan pada setiap elemen pada array, kita harus membuat fungsi secara manual seperti ini"
   ]
  },
  {
   "cell_type": "code",
   "execution_count": null,
   "metadata": {},
   "outputs": [],
   "source": [
    "a = [1, 2, 3]\n",
    "b = [4, 5, 6]\n",
    "\n",
    "def add(list_a, list_b):\n",
    "    result = []\n",
    "    for first, second in zip(list_a, list_b):\n",
    "        result.append(first + second)\n",
    "    return result\n",
    "\n",
    "hasil = add(a, b)\n",
    "print(hasil) # [5, 7, 9]"
   ]
  },
  {
   "cell_type": "markdown",
   "metadata": {},
   "source": [
    "Kita bisa menjumlahkan setiap elemen pada array menggunakan library numpy, seperti ini"
   ]
  },
  {
   "cell_type": "code",
   "execution_count": null,
   "metadata": {},
   "outputs": [],
   "source": [
    "a = np.array([1, 2, 3])\n",
    "b = np.array([4, 5, 6])\n",
    "\n",
    "hasil = a + b\n",
    "print(hasil) # [5 7 9]"
   ]
  },
  {
   "cell_type": "markdown",
   "metadata": {},
   "source": [
    "Jika kita ingin mengetahui versi library numpy yang terinstall, bisa dengan cara seperti ini"
   ]
  },
  {
   "cell_type": "code",
   "execution_count": null,
   "metadata": {},
   "outputs": [],
   "source": [
    "np.__version__ # 1.25.2"
   ]
  },
  {
   "cell_type": "markdown",
   "metadata": {},
   "source": [
    "## Latihan"
   ]
  },
  {
   "cell_type": "code",
   "execution_count": null,
   "metadata": {},
   "outputs": [],
   "source": [
    "# No 1\n",
    "print(\"Hello, World!\") # Hello, World!\n",
    "print(\"Nama saya Muhammad Satrio\") # Nama saya Muhammad Satrio\n",
    "print(\"NIM saya 2022071059\") # NIM saya 2022071059"
   ]
  },
  {
   "cell_type": "code",
   "execution_count": null,
   "metadata": {},
   "outputs": [],
   "source": [
    "# No 2\n",
    "if 5 > 2:\n",
    "    print(\"Five is greater than two\") # Five is greater than two"
   ]
  },
  {
   "cell_type": "code",
   "execution_count": null,
   "metadata": {},
   "outputs": [],
   "source": [
    "# No 3\n",
    "x = 5\n",
    "y = \"John\"\n",
    "print(x) # 5\n",
    "print(y) # John"
   ]
  },
  {
   "cell_type": "code",
   "execution_count": null,
   "metadata": {},
   "outputs": [],
   "source": [
    "# No 4\n",
    "x = 4\n",
    "x = \"Sally\"\n",
    "print(x) # Sally"
   ]
  },
  {
   "cell_type": "code",
   "execution_count": null,
   "metadata": {},
   "outputs": [],
   "source": [
    "# No 5\n",
    "# TODO: Mendapat elemen pertama pada list\n",
    "\n",
    "def get_first(my_list):\n",
    "    return my_list[0]\n",
    "\n",
    "a = [5, 4, 3, 2, 1]\n",
    "print(get_first(a)) # 5"
   ]
  },
  {
   "cell_type": "code",
   "execution_count": null,
   "metadata": {},
   "outputs": [],
   "source": [
    "# No 6\n",
    "# TODO: Mendapat elemen kedua pada list\n",
    "\n",
    "def get_second(my_list):\n",
    "    return my_list[1]\n",
    "\n",
    "a = [5, 4, 3, 2, 1]\n",
    "print(get_second(a)) # 4"
   ]
  },
  {
   "cell_type": "code",
   "execution_count": null,
   "metadata": {},
   "outputs": [],
   "source": [
    "# No 7\n",
    "# TODO: Mendapat elemen terakhir pada list\n",
    "\n",
    "def get_last(my_list):\n",
    "    return my_list[len(my_list) - 1]\n",
    "\n",
    "a = [5, 4, 3, 2, 1]\n",
    "print(get_last(a)) # 1"
   ]
  },
  {
   "cell_type": "code",
   "execution_count": null,
   "metadata": {},
   "outputs": [],
   "source": [
    "# No 8\n",
    "# TODO: Menjumlahkan seluruh elemen di dalam list\n",
    "\n",
    "def get_sum(my_list):\n",
    "    sum = 0\n",
    "    for i in my_list:\n",
    "        sum += i\n",
    "    return sum\n",
    "\n",
    "a = [5, 4, 3, 2, 1]\n",
    "print(get_sum(a)) # 15"
   ]
  },
  {
   "cell_type": "code",
   "execution_count": null,
   "metadata": {},
   "outputs": [],
   "source": [
    "# No 9\n",
    "# TODO: Mengkalikan seluruh elemen di dalam list\n",
    "\n",
    "def get_mul(my_list):\n",
    "    sum = 1\n",
    "    for i in my_list:\n",
    "        sum *= i\n",
    "    return sum\n",
    "\n",
    "a = [5, 4, 3, 2, 1]\n",
    "print(get_mul(a)) # 120"
   ]
  },
  {
   "cell_type": "code",
   "execution_count": null,
   "metadata": {},
   "outputs": [],
   "source": [
    "# No 10\n",
    "# TODO: Membagi seluruh elemen di dalam list\n",
    "\n",
    "def get_div(my_list):\n",
    "    div = 1\n",
    "    for i in my_list:\n",
    "        div /= i\n",
    "    return div\n",
    "\n",
    "a = [5, 4, 3, 2, 1]\n",
    "print(round(get_div(a), 2)) # 0.01"
   ]
  },
  {
   "cell_type": "code",
   "execution_count": null,
   "metadata": {},
   "outputs": [],
   "source": [
    "# No 11\n",
    "# TODO: Mendapat nilai rata-rata dari list\n",
    "\n",
    "def get_avg(my_list):\n",
    "    sum = 0\n",
    "    for i in my_list:\n",
    "        sum += i\n",
    "    avg = sum / len(my_list)\n",
    "    return avg\n",
    "\n",
    "a = [5, 4, 3, 2, 1]\n",
    "print(get_avg(a)) # 3.0"
   ]
  },
  {
   "cell_type": "code",
   "execution_count": null,
   "metadata": {},
   "outputs": [],
   "source": [
    "# No 12\n",
    "# TODO: Buatlah suatu fungsi untuk membagi 2 himpunan angka, jika getSum untuk menjumlahkan angka!\n",
    "\n",
    "a = [1, 2, 3, 4]\n",
    "b = [5, 6, 7, 8]\n",
    "\n",
    "hasil = get_sum(a) / get_sum(b)\n",
    "print(hasil) # 0.38461538461538464"
   ]
  },
  {
   "cell_type": "code",
   "execution_count": null,
   "metadata": {},
   "outputs": [],
   "source": [
    "# No 13\n",
    "# TODO: Buatlah suatu fungsi untuk mengurangi 2 himpunan angka, jika getSum untuk menjumlahkan angka!\n",
    "\n",
    "a = [1, 2, 3, 4]\n",
    "b = [5, 6, 7, 8]\n",
    "\n",
    "hasil = get_sum(a) - get_sum(b)\n",
    "print(hasil) # -16"
   ]
  }
 ],
 "metadata": {
  "kernelspec": {
   "display_name": "Python 3",
   "language": "python",
   "name": "python3"
  },
  "language_info": {
   "codemirror_mode": {
    "name": "ipython",
    "version": 3
   },
   "file_extension": ".py",
   "mimetype": "text/x-python",
   "name": "python",
   "nbconvert_exporter": "python",
   "pygments_lexer": "ipython3",
   "version": "3.10.12"
  },
  "orig_nbformat": 4
 },
 "nbformat": 4,
 "nbformat_minor": 2
}
