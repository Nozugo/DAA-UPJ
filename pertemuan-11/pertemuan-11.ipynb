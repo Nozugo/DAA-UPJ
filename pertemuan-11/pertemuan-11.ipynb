{
  "nbformat": 4,
  "nbformat_minor": 0,
  "metadata": {
    "colab": {
      "provenance": []
    },
    "kernelspec": {
      "name": "python3",
      "display_name": "Python 3"
    },
    "language_info": {
      "name": "python"
    }
  },
  "cells": [
    {
      "cell_type": "markdown",
      "source": [
        "# Pertemuan 11 - Desain dan Analisis Algoritma\n",
        "\n",
        "`Nama:` Muhammad Satrio\n",
        "\n",
        "`NIM:` 2022071059\n",
        "\n"
      ],
      "metadata": {
        "id": "3HrnUHTCZ6wB"
      }
    },
    {
      "cell_type": "code",
      "source": [
        "# a-----b\n",
        "# a-----b\n",
        "# |     |\n",
        "# |     |\n",
        "# c-----d------e\n",
        "\n",
        "# Create the dictionary with graph elements\n",
        "graph = {\n",
        "    \"a\": [\"b\", \"c\"],\n",
        "    \"b\": [\"a\", \"d\"],\n",
        "    \"c\": [\"a\", \"d\"],\n",
        "\n",
        "\n",
        "# |     |\n",
        "# |     |\n",
        "# c-----d------e\n",
        "\n",
        "# Create the dictionary with graph elements\n",
        "graph = {\n",
        "    \"a\": [\"b\", \"c\"],\n",
        "    \"b\": [\"a\", \"d\"],\n",
        "    \"c\": [\"a\", \"d\"],\n",
        "    \"d\": [\"e\"],\n",
        "    \"e\": [\"d\"]\n",
        "}\n",
        "\n",
        "# Print the graph\n",
        "print(graph)"
      ],
      "metadata": {
        "id": "_-fklAeDaBUb"
      },
      "execution_count": null,
      "outputs": []
    },
    {
      "cell_type": "markdown",
      "source": [
        "## Latihan\n",
        "\n",
        "![image.png](data:image/png;base64,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)"
      ],
      "metadata": {
        "id": "mNELeB-cqboJ"
      }
    },
    {
      "cell_type": "code",
      "source": [
        "graph = {\n",
        "    \"T\": [\"U\", \"W\"],\n",
        "    \"U\": [\"V\"],\n",
        "    \"V\": [\"X\"],\n",
        "    \"W\": [\"X\", \"Z\"],\n",
        "    \"X\": [\"S\"],\n",
        "    \"S\": [\"X\"],\n",
        "    \"Z\": [\"W\"]\n",
        "}\n",
        "\n",
        "print(graph)"
      ],
      "metadata": {
        "colab": {
          "base_uri": "https://localhost:8080/"
        },
        "id": "VWe35S11qcZz",
        "outputId": "9e16e743-e3f7-46e9-c6b1-e86a9124dfd5"
      },
      "execution_count": null,
      "outputs": [
        {
          "output_type": "stream",
          "name": "stdout",
          "text": [
            "{'T': ['U', 'W'], 'U': ['T', 'V'], 'V': ['U', 'X'], 'W': ['T', 'X', 'Z'], 'X': ['S', 'V', 'W'], 'S': ['X'], 'Z': ['W']}\n"
          ]
        }
      ]
    },
    {
      "cell_type": "markdown",
      "source": [
        "![image.png](data:image/png;base64,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)"
      ],
      "metadata": {
        "id": "p33aNTxErgO_"
      }
    },
    {
      "cell_type": "code",
      "source": [
        "graph = {\n",
        "    \"r\": [\"o\", \"l\"],\n",
        "    \"o\": [\"m\", \"p\"],\n",
        "    \"p\": [\"l\", \"n\"],\n",
        "    \"m\": [\"n\"],\n",
        "    \"l\": [\"p\"],\n",
        "    \"n\": [\"p\"],\n",
        "}\n",
        "print(graph)"
      ],
      "metadata": {
        "colab": {
          "base_uri": "https://localhost:8080/"
        },
        "id": "yyAD49OSrjEI",
        "outputId": "cd7119e9-de40-4364-fb59-a9cc5895341f"
      },
      "execution_count": null,
      "outputs": [
        {
          "output_type": "stream",
          "name": "stdout",
          "text": [
            "{'r': ['o', 'l'], 'o': ['m', 'p'], 'p': ['l', 'n'], 'm': ['n'], 'l': ['p'], 'n': ['p']}\n"
          ]
        }
      ]
    },
    {
      "cell_type": "code",
      "source": [
        "class Graph:\n",
        "    def __init__(self, gdict=None):\n",
        "        if gdict is None:\n",
        "            gdict = {}\n",
        "        self.gdict = gdict\n",
        "\n",
        "    # Get the keys of the dictionary\n",
        "    def getVertices(self):\n",
        "        return list(self.gdict.keys())\n",
        "\n",
        "# Create dictionary with graph elements\n",
        "graph_elements = {\n",
        "    \"a\": [\"b\", \"c\"],\n",
        "    \"b\": [\"a\", \"d\"],\n",
        "    \"c\": [\"a\", \"d\"],\n",
        "    \"d\": [\"e\"],\n",
        "    \"e\": [\"d\"]\n",
        "}\n",
        "\n",
        "# Create an instance of the Graph class and pass the graph_elements\n",
        "g = Graph(graph_elements)\n",
        "\n",
        "# Print the vertices by calling the getVertices method with parentheses\n",
        "print(g.getVertices())"
      ],
      "metadata": {
        "colab": {
          "base_uri": "https://localhost:8080/"
        },
        "id": "3PgJ56nDx0J2",
        "outputId": "3f6f69dc-3b22-4811-a498-da8ebe9937f0"
      },
      "execution_count": null,
      "outputs": [
        {
          "output_type": "stream",
          "name": "stdout",
          "text": [
            "['a', 'b', 'c', 'd', 'e']\n"
          ]
        }
      ]
    },
    {
      "cell_type": "markdown",
      "source": [
        "## Latihan"
      ],
      "metadata": {
        "id": "q_zr1k8_1BVV"
      }
    },
    {
      "cell_type": "code",
      "source": [
        "# Elemen simpul pada TUV\n",
        "\n",
        "graph_elements = {\n",
        "    \"T\": [\"U\", \"W\"],\n",
        "    \"U\": [\"V\"],\n",
        "    \"V\": [\"X\"],\n",
        "    \"W\": [\"X\", \"Z\"],\n",
        "    \"X\": [\"S\"],\n",
        "    \"S\": [\"X\"],\n",
        "    \"Z\": [\"W\"]\n",
        "}\n",
        "\n",
        "g = Graph(graph_elements)\n",
        "print(g.getVertices())"
      ],
      "metadata": {
        "colab": {
          "base_uri": "https://localhost:8080/"
        },
        "id": "vUYR6pfa09sY",
        "outputId": "b45e1c33-eac0-49a9-de08-517cba60ea8a"
      },
      "execution_count": null,
      "outputs": [
        {
          "output_type": "stream",
          "name": "stdout",
          "text": [
            "['T', 'U', 'V', 'W', 'X', 'S', 'Z']\n"
          ]
        }
      ]
    },
    {
      "cell_type": "code",
      "source": [
        "# Elemen simpul pada rom\n",
        "\n",
        "graph_elements = {\n",
        "    \"r\": [\"o\", \"l\"],\n",
        "    \"o\": [\"m\", \"p\"],\n",
        "    \"p\": [\"l\", \"n\"],\n",
        "    \"m\": [\"n\"],\n",
        "    \"l\": [\"p\"],\n",
        "    \"n\": [\"p\"],\n",
        "}\n",
        "\n",
        "g = Graph(graph_elements)\n",
        "print(g.getVertices())"
      ],
      "metadata": {
        "colab": {
          "base_uri": "https://localhost:8080/"
        },
        "id": "a60n-6r81P2T",
        "outputId": "bae2c0ab-0fd8-4dce-b9f1-1585cbe179b7"
      },
      "execution_count": null,
      "outputs": [
        {
          "output_type": "stream",
          "name": "stdout",
          "text": [
            "['r', 'o', 'p', 'm', 'l', 'n']\n"
          ]
        }
      ]
    },
    {
      "cell_type": "code",
      "source": [
        "class graph:\n",
        "    def __init__(self, gdict=None):\n",
        "        if gdict is None:\n",
        "            gdict = {}\n",
        "        self.gdict = gdict\n",
        "\n",
        "    def edges(self):\n",
        "        return self.findedges()\n",
        "\n",
        "    # Find the distict list of edges\n",
        "    def findedges(self):\n",
        "        edgename = []\n",
        "        for vrtx in self.gdict:\n",
        "            for nxtvrtx in self.gdict[vrtx]:\n",
        "                if {nxtvrtx, vrtx} not in edgename:\n",
        "                    edgename.append({vrtx, nxtvrtx})\n",
        "        return edgename\n",
        "\n",
        "# Create the dictionary with graph elements\n",
        "graph_elements = {\n",
        "    \"a\": [\"b\", \"c\"],\n",
        "    \"b\": [\"a\", \"d\"],\n",
        "    \"c\": [\"a\", \"d\"],\n",
        "    \"d\": [\"e\"],\n",
        "    \"e\": [\"d\"]\n",
        "}\n",
        "\n",
        "g = graph(graph_elements)\n",
        "print(g.edges())"
      ],
      "metadata": {
        "colab": {
          "base_uri": "https://localhost:8080/"
        },
        "id": "xO28he451lBh",
        "outputId": "3833a992-e706-482a-e242-62543f4379dd"
      },
      "execution_count": null,
      "outputs": [
        {
          "output_type": "stream",
          "name": "stdout",
          "text": [
            "[{'a', 'b'}, {'a', 'c'}, {'b', 'd'}, {'c', 'd'}, {'e', 'd'}]\n"
          ]
        }
      ]
    },
    {
      "cell_type": "markdown",
      "source": [
        "## Latihan"
      ],
      "metadata": {
        "id": "M_KmkWSv277p"
      }
    },
    {
      "cell_type": "code",
      "source": [
        "graph_elements = {\n",
        "    \"T\": [\"U\", \"W\"],\n",
        "    \"U\": [\"V\"],\n",
        "    \"V\": [\"X\"],\n",
        "    \"W\": [\"X\", \"Z\"],\n",
        "    \"X\": [\"S\"],\n",
        "    \"S\": [\"X\"],\n",
        "    \"Z\": [\"W\"]\n",
        "}\n",
        "\n",
        "g = graph(graph_elements)\n",
        "print(g.edges())"
      ],
      "metadata": {
        "colab": {
          "base_uri": "https://localhost:8080/"
        },
        "id": "EVb7Cd-Q2_N6",
        "outputId": "236f270c-0a22-4577-d82e-5dc51af29fca"
      },
      "execution_count": null,
      "outputs": [
        {
          "output_type": "stream",
          "name": "stdout",
          "text": [
            "[{'T', 'U'}, {'T', 'W'}, {'U', 'V'}, {'X', 'V'}, {'X', 'W'}, {'Z', 'W'}, {'X', 'S'}]\n"
          ]
        }
      ]
    },
    {
      "cell_type": "code",
      "source": [
        "graph_elements = {\n",
        "    \"r\": [\"o\", \"l\"],\n",
        "    \"o\": [\"m\", \"p\"],\n",
        "    \"p\": [\"l\", \"n\"],\n",
        "    \"m\": [\"n\"],\n",
        "    \"l\": [\"p\"],\n",
        "    \"n\": [\"p\"],\n",
        "}\n",
        "\n",
        "g = graph(graph_elements)\n",
        "print(g.edges())"
      ],
      "metadata": {
        "colab": {
          "base_uri": "https://localhost:8080/"
        },
        "id": "Sew1xhje3NB_",
        "outputId": "98963410-4d65-4a6f-8771-a158f0d1da35"
      },
      "execution_count": null,
      "outputs": [
        {
          "output_type": "stream",
          "name": "stdout",
          "text": [
            "[{'o', 'r'}, {'l', 'r'}, {'o', 'm'}, {'o', 'p'}, {'l', 'p'}, {'n', 'p'}, {'n', 'm'}]\n"
          ]
        }
      ]
    },
    {
      "cell_type": "code",
      "source": [
        "class graph_vertex:\n",
        "    def __init__(self, gdict=None):\n",
        "        if gdict is None:\n",
        "            gdict = {}\n",
        "        self.gdict = gdict\n",
        "\n",
        "    def getVertices(self):\n",
        "        return list(self.gdict.keys())\n",
        "\n",
        "    # Add the vertex as a key\n",
        "    def addVertex(self, vrtx):\n",
        "        if vrtx not in self.gdict:\n",
        "            self.gdict[vrtx] = []\n",
        "\n",
        "# Create the dictionary with graph elements\n",
        "graph_elements = {\n",
        "    \"a\": [\"b\", \"c\"],\n",
        "    \"b\": [\"a\", \"d\"],\n",
        "    \"c\": [\"a\", \"d\"],\n",
        "    \"d\": [\"e\"],\n",
        "    \"e\": [\"d\"]\n",
        "}\n",
        "\n",
        "g = graph_vertex(graph_elements)\n",
        "g.addVertex(\"f\")\n",
        "print(g.getVertices())"
      ],
      "metadata": {
        "colab": {
          "base_uri": "https://localhost:8080/"
        },
        "id": "ZC8zwR6m3dFa",
        "outputId": "50041716-4fe0-4284-f039-d0ab1ccd7734"
      },
      "execution_count": null,
      "outputs": [
        {
          "output_type": "stream",
          "name": "stdout",
          "text": [
            "['a', 'b', 'c', 'd', 'e', 'f']\n"
          ]
        }
      ]
    },
    {
      "cell_type": "markdown",
      "source": [
        "## Latihan"
      ],
      "metadata": {
        "id": "q1n7Fpib4MWI"
      }
    },
    {
      "cell_type": "code",
      "source": [
        "graph_elements = {\n",
        "    \"T\": [\"U\", \"W\"],\n",
        "    \"U\": [\"V\"],\n",
        "    \"V\": [\"X\"],\n",
        "    \"W\": [\"X\", \"Z\"],\n",
        "    \"X\": [\"S\"],\n",
        "    \"S\": [\"X\"],\n",
        "    \"Z\": [\"W\"]\n",
        "}\n",
        "\n",
        "g = graph_vertex(graph_elements)\n",
        "g.addVertex(\"R\")\n",
        "print(g.getVertices())"
      ],
      "metadata": {
        "colab": {
          "base_uri": "https://localhost:8080/"
        },
        "id": "MiCEhl5N4M-a",
        "outputId": "48524fab-927e-4d91-cf26-1c270e3b130d"
      },
      "execution_count": null,
      "outputs": [
        {
          "output_type": "stream",
          "name": "stdout",
          "text": [
            "['T', 'U', 'V', 'W', 'X', 'S', 'Z', 'R']\n"
          ]
        }
      ]
    },
    {
      "cell_type": "code",
      "source": [
        "graph_elements = {\n",
        "    \"r\": [\"o\", \"l\"],\n",
        "    \"o\": [\"m\", \"p\"],\n",
        "    \"p\": [\"l\", \"n\"],\n",
        "    \"m\": [\"n\"],\n",
        "    \"l\": [\"p\"],\n",
        "    \"n\": [\"p\"],\n",
        "}\n",
        "\n",
        "g = graph_vertex(graph_elements)\n",
        "g.addVertex(\"K\")\n",
        "g.addVertex(\"J\")\n",
        "print(g.getVertices())"
      ],
      "metadata": {
        "colab": {
          "base_uri": "https://localhost:8080/"
        },
        "id": "59b9yYpW4qyM",
        "outputId": "93143a3e-e2ef-41e8-a3c5-11db38183b83"
      },
      "execution_count": null,
      "outputs": [
        {
          "output_type": "stream",
          "name": "stdout",
          "text": [
            "['r', 'o', 'p', 'm', 'l', 'n', 'K', 'J']\n"
          ]
        }
      ]
    },
    {
      "cell_type": "code",
      "source": [
        "class graph_edges:\n",
        "    def __init__(self, gdict=None):\n",
        "        if gdict is None:\n",
        "            gdict = {}\n",
        "        self.gdict = gdict\n",
        "\n",
        "    def edges(self):\n",
        "        return self.findedges()\n",
        "\n",
        "    # Add the new edge\n",
        "    def AddEdge(self,edge):\n",
        "        edge = set(edge)\n",
        "        (vrtx1, vrtx2) = tuple(edge)\n",
        "        if vrtx1 in self.gdict:\n",
        "            self.gdict[vrtx1].append(vrtx2)\n",
        "        else:\n",
        "            self.gdict[vrtx1] = [vrtx2]\n",
        "\n",
        "    # Find the distict list of edges\n",
        "    def findedges(self):\n",
        "        edgename = []\n",
        "        for vrtx in self.gdict:\n",
        "            for nxtvrtx in self.gdict[vrtx]:\n",
        "                if {nxtvrtx, vrtx} not in edgename:\n",
        "                    edgename.append({vrtx, nxtvrtx})\n",
        "        return edgename\n",
        "\n",
        "graph_elements = {\n",
        "    \"a\": [\"b\", \"c\"],\n",
        "    \"b\": [\"a\", \"d\"],\n",
        "    \"c\": [\"a\", \"d\"],\n",
        "    \"d\": [\"e\"],\n",
        "    \"e\": [\"d\"]\n",
        "}\n",
        "g = graph_edges(graph_elements)\n",
        "g.AddEdge({'a', 'e'})\n",
        "g.AddEdge({'a', 'c'})\n",
        "print(g.edges())"
      ],
      "metadata": {
        "colab": {
          "base_uri": "https://localhost:8080/"
        },
        "id": "zEyzpByn5NRn",
        "outputId": "3deb3410-7900-4498-e339-8ced76507da4"
      },
      "execution_count": null,
      "outputs": [
        {
          "output_type": "stream",
          "name": "stdout",
          "text": [
            "[{'a', 'b'}, {'a', 'c'}, {'a', 'e'}, {'b', 'd'}, {'c', 'd'}, {'e', 'd'}]\n"
          ]
        }
      ]
    },
    {
      "cell_type": "markdown",
      "source": [
        "## Latihan"
      ],
      "metadata": {
        "id": "hlFgr8yF7IWl"
      }
    },
    {
      "cell_type": "code",
      "source": [
        "graph_elements = {\n",
        "    \"T\": [\"U\", \"W\"],\n",
        "    \"U\": [\"V\"],\n",
        "    \"V\": [\"X\"],\n",
        "    \"W\": [\"X\", \"Z\"],\n",
        "    \"X\": [\"S\"],\n",
        "    \"S\": [\"X\"],\n",
        "    \"Z\": [\"W\"]\n",
        "}\n",
        "\n",
        "g = graph_edges(graph_elements)\n",
        "g.AddEdge({\"T\", \"Z\"})\n",
        "g.AddEdge({\"V\", \"S\"})\n",
        "print(g.edges())"
      ],
      "metadata": {
        "colab": {
          "base_uri": "https://localhost:8080/"
        },
        "id": "i4vqNhck7HKL",
        "outputId": "10a4781d-91b9-46c7-d353-9a812f0474b1"
      },
      "execution_count": null,
      "outputs": [
        {
          "output_type": "stream",
          "name": "stdout",
          "text": [
            "[{'T', 'U'}, {'T', 'W'}, {'T', 'Z'}, {'U', 'V'}, {'X', 'V'}, {'V', 'S'}, {'X', 'W'}, {'Z', 'W'}, {'X', 'S'}]\n"
          ]
        }
      ]
    },
    {
      "cell_type": "code",
      "source": [
        "graph_elements = {\n",
        "    \"r\": [\"o\", \"l\"],\n",
        "    \"o\": [\"m\", \"p\"],\n",
        "    \"p\": [\"l\", \"n\"],\n",
        "    \"m\": [\"n\"],\n",
        "    \"l\": [\"p\"],\n",
        "    \"n\": [\"p\"],\n",
        "}\n",
        "\n",
        "g = graph_edges(graph_elements)\n",
        "g.AddEdge({\"r\", \"K\"})\n",
        "g.AddEdge({\"m\", \"J\"})\n",
        "print(g.edges())"
      ],
      "metadata": {
        "colab": {
          "base_uri": "https://localhost:8080/"
        },
        "id": "4AH7xry770uc",
        "outputId": "a4d52526-95ba-4387-dae6-0e896e8727f1"
      },
      "execution_count": null,
      "outputs": [
        {
          "output_type": "stream",
          "name": "stdout",
          "text": [
            "[{'o', 'r'}, {'l', 'r'}, {'o', 'm'}, {'o', 'p'}, {'l', 'p'}, {'n', 'p'}, {'n', 'm'}, {'K', 'r'}, {'J', 'm'}]\n"
          ]
        }
      ]
    },
    {
      "cell_type": "code",
      "source": [],
      "metadata": {
        "id": "DVBzHdYE76Aw"
      },
      "execution_count": null,
      "outputs": []
    }
  ]
}
