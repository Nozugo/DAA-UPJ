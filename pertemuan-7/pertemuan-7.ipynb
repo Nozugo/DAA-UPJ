{
  "nbformat": 4,
  "nbformat_minor": 0,
  "metadata": {
    "colab": {
      "provenance": []
    },
    "kernelspec": {
      "name": "python3",
      "display_name": "Python 3"
    },
    "language_info": {
      "name": "python"
    }
  },
  "cells": [
    {
      "cell_type": "markdown",
      "source": [
        "# Pertemuan 7 - Desain dan Analisis Algoritma\n",
        "---\n",
        "\n",
        "`Nama:` Muhammad Satrio\n",
        "\n",
        "`NIM:` 2022071059"
      ],
      "metadata": {
        "id": "F-oqUf_OvWYf"
      }
    },
    {
      "cell_type": "markdown",
      "source": [
        "## Algoritma Brute Force\n",
        "\n",
        "- Brute force adalah sebuah pendekatan yang lempang (straightforward) untuk memecahkan suatu masalah, biasanya didasarkan pada pernyataan masalah (problem statement) dan definisi konsep yang dilibatkan.\n",
        "- Algoritma brute force memecahkan masalah dengan sangat sederhana, langsung dan dengan cara yang jelas (obvious way).\n",
        "- “Just Do It!\" akan menjadi cara lain untuk menjelaskan pendekatan brute force.\n",
        "- Strategi brute force paling mudah diterapkan."
      ],
      "metadata": {
        "id": "sCDsjeu_vvDj"
      }
    },
    {
      "cell_type": "markdown",
      "source": [
        "### Perkalian Matriks"
      ],
      "metadata": {
        "id": "3NFNd3UBaiJn"
      }
    },
    {
      "cell_type": "code",
      "source": [
        "mat1 = [\n",
        "    [7, 3],\n",
        "    [2, 1]\n",
        "]\n",
        "\n",
        "mat2 = [\n",
        "    [5, 4],\n",
        "    [6, 3]\n",
        "]\n",
        "\n",
        "mat3 = []\n",
        "sol = 0\n",
        "\n",
        "for i in range(len(mat1)):\n",
        "    row = []\n",
        "    for j in range(len(mat1)):\n",
        "        sol = 0\n",
        "        for k in range(len(mat1)):\n",
        "            sol = sol + mat1[i][k] * mat2[k][j]\n",
        "        row.append(sol)\n",
        "    mat3.append(row)\n",
        "\n",
        "for i in range(len(mat3)):\n",
        "    for j in range(len(mat3)):\n",
        "        print(mat3[i][j], end=' ')\n",
        "    print()"
      ],
      "metadata": {
        "colab": {
          "base_uri": "https://localhost:8080/"
        },
        "id": "tdwfxamHT66T",
        "outputId": "d871c041-b1fb-415e-9869-eaec5ddfc9af"
      },
      "execution_count": 25,
      "outputs": [
        {
          "output_type": "stream",
          "name": "stdout",
          "text": [
            "53 37 \n",
            "16 11 \n"
          ]
        }
      ]
    },
    {
      "cell_type": "markdown",
      "source": [
        "### Faktorial"
      ],
      "metadata": {
        "id": "6aJ471tPamD_"
      }
    },
    {
      "cell_type": "code",
      "source": [
        "def faktorial(n):\n",
        "    if (n == 1):\n",
        "        return n\n",
        "    return faktorial(n-1) * n\n",
        "\n",
        "n = int(input(\"Masukan nilai n: \")) # input nilai\n",
        "print(f\"Hasil dari {n}!\", faktorial(n)) # output nilai"
      ],
      "metadata": {
        "colab": {
          "base_uri": "https://localhost:8080/"
        },
        "id": "him2QnyQaohv",
        "outputId": "a32834eb-e4a7-4e07-cabd-4dee696a155e"
      },
      "execution_count": 28,
      "outputs": [
        {
          "output_type": "stream",
          "name": "stdout",
          "text": [
            "Masukan nilai n: 20\n",
            "Hasil dari 20! 2432902008176640000\n"
          ]
        }
      ]
    },
    {
      "cell_type": "code",
      "source": [
        "n = 4\n",
        "sol = 1\n",
        "\n",
        "for i in range(1, n+1):\n",
        "    sol = sol * i\n",
        "\n",
        "print(sol)"
      ],
      "metadata": {
        "colab": {
          "base_uri": "https://localhost:8080/"
        },
        "id": "BeYxecj1dl6E",
        "outputId": "9771c4f1-f9da-43fc-8bd2-dc131536712f"
      },
      "execution_count": 5,
      "outputs": [
        {
          "output_type": "stream",
          "name": "stdout",
          "text": [
            "24\n"
          ]
        }
      ]
    },
    {
      "cell_type": "markdown",
      "source": [
        "### Mencari Element Terbesar"
      ],
      "metadata": {
        "id": "F307Lez6a62p"
      }
    },
    {
      "cell_type": "code",
      "source": [
        "def nilai_maksimal(deret_bilangan):\n",
        "    nilai_terbesar = deret_bilangan[0]\n",
        "\n",
        "    for nilai in deret_bilangan:\n",
        "        if nilai > nilai_terbesar:\n",
        "            nilai_terbesar = nilai\n",
        "\n",
        "    return nilai_terbesar"
      ],
      "metadata": {
        "id": "F-f5pZlda9ma"
      },
      "execution_count": 29,
      "outputs": []
    },
    {
      "cell_type": "code",
      "source": [
        "a = [3, 20, 100, -35, 50]\n",
        "\n",
        "print(a)\n",
        "print(\"Nilai terbesar:\", nilai_maksimal(a))"
      ],
      "metadata": {
        "colab": {
          "base_uri": "https://localhost:8080/"
        },
        "id": "XHAavnqxbK-_",
        "outputId": "7112b34c-b0c9-45fd-8d36-9bc9fb35ec3a"
      },
      "execution_count": 30,
      "outputs": [
        {
          "output_type": "stream",
          "name": "stdout",
          "text": [
            "[3, 20, 100, -35, 50]\n",
            "Nilai terbesar: 100\n"
          ]
        }
      ]
    },
    {
      "cell_type": "markdown",
      "source": [
        "### Sequential Search"
      ],
      "metadata": {
        "id": "o2L8Qx6ibkaY"
      }
    },
    {
      "cell_type": "code",
      "source": [
        "def sequentialSearch(alist, item):\n",
        "    pos = 0\n",
        "    found = False\n",
        "\n",
        "    while pos < len(alist) and not found:\n",
        "        if alist[pos] == item:\n",
        "            found = True\n",
        "        else:\n",
        "            pos = pos + 1\n",
        "    return found\n",
        "\n",
        "testlist = [1, 2, 32, 8, 17, 19, 42, 13, 0]\n",
        "print(sequentialSearch(testlist, 3))\n",
        "print(sequentialSearch(testlist, 2))"
      ],
      "metadata": {
        "colab": {
          "base_uri": "https://localhost:8080/"
        },
        "id": "ICuljBxtbl8h",
        "outputId": "a083ebe6-8887-46f2-9118-cab0990b77c4"
      },
      "execution_count": 31,
      "outputs": [
        {
          "output_type": "stream",
          "name": "stdout",
          "text": [
            "False\n",
            "True\n"
          ]
        }
      ]
    },
    {
      "cell_type": "markdown",
      "source": [
        "### Bubble Sort"
      ],
      "metadata": {
        "id": "ojGuXWVbcAIs"
      }
    },
    {
      "cell_type": "code",
      "source": [
        "def bubbleSort(alist):\n",
        "    for passnum in range(len(alist) - 1, 0, -1):\n",
        "        for i in range(passnum):\n",
        "            if alist[i] > alist[i+1]:\n",
        "                temp = alist[i]\n",
        "                alist[i] = alist[i+1]\n",
        "                alist[i+1] = temp\n",
        "\n",
        "alist = [54, 26, 93, 17, 77, 31, 44, 55, 20]\n",
        "bubbleSort(alist)\n",
        "print(alist)"
      ],
      "metadata": {
        "colab": {
          "base_uri": "https://localhost:8080/"
        },
        "id": "pJPxSP-6cWA2",
        "outputId": "4c18c0d1-4dc5-439c-e44a-599def0b9095"
      },
      "execution_count": 1,
      "outputs": [
        {
          "output_type": "stream",
          "name": "stdout",
          "text": [
            "[17, 20, 26, 31, 44, 54, 55, 77, 93]\n"
          ]
        }
      ]
    },
    {
      "cell_type": "markdown",
      "source": [
        "### Uji Keprimaan"
      ],
      "metadata": {
        "id": "AJnOkxNYctn5"
      }
    },
    {
      "cell_type": "code",
      "source": [
        "x = int(input(\"Input satu angka bulat: \"))\n",
        "\n",
        "angka_prima = True\n",
        "if ((x == 0) or (x == 1)):\n",
        "    angka_prima = False\n",
        "else:\n",
        "    for i in range(2, x):\n",
        "        if ((x % i) == 0):\n",
        "            angka_prima = False\n",
        "            break\n",
        "\n",
        "if (angka_prima):\n",
        "    print(x, 'adalah angka prima')\n",
        "else:\n",
        "    print(x, 'bukan angka prima')"
      ],
      "metadata": {
        "colab": {
          "base_uri": "https://localhost:8080/"
        },
        "id": "aLaqi_tmoWYU",
        "outputId": "b45f867b-7b11-4509-8835-17533e012907"
      },
      "execution_count": 28,
      "outputs": [
        {
          "output_type": "stream",
          "name": "stdout",
          "text": [
            "Input satu angka bulat: 10\n",
            "10 bukan angka prima\n"
          ]
        }
      ]
    },
    {
      "cell_type": "code",
      "source": [
        "n = 13\n",
        "print('n//2:', n//2)\n",
        "\n",
        "for i in range(2, n//2):\n",
        "    print(i)"
      ],
      "metadata": {
        "colab": {
          "base_uri": "https://localhost:8080/"
        },
        "id": "_qigXAgkqVsX",
        "outputId": "4d994f1a-6365-4231-af78-8e1f60f02fe0"
      },
      "execution_count": 19,
      "outputs": [
        {
          "output_type": "stream",
          "name": "stdout",
          "text": [
            "n//2: 6\n",
            "2\n",
            "3\n",
            "4\n",
            "5\n"
          ]
        }
      ]
    },
    {
      "cell_type": "markdown",
      "source": [
        "### Menghitung Polynomial"
      ],
      "metadata": {
        "id": "0tlhU_o6eFaq"
      }
    },
    {
      "cell_type": "code",
      "source": [
        "def polynomial_py(a, x):\n",
        "    result = 0\n",
        "    # for every n in 0..len(a)-1\n",
        "    for n, a_n in enumerate(a):\n",
        "        # compute x^n\n",
        "        x_power_n = 1\n",
        "        for i in range(n):\n",
        "            x_power_n *= x\n",
        "        # add a_n * x^n to the final result\n",
        "        result += a_n * x_power_n\n",
        "    return result"
      ],
      "metadata": {
        "id": "Xhg86BdNeIP6"
      },
      "execution_count": 6,
      "outputs": []
    },
    {
      "cell_type": "code",
      "source": [
        "a = [1, 2, 0, 3] # coefficients\n",
        "x = 1.5\n",
        "print(polynomial_py(a, x))"
      ],
      "metadata": {
        "colab": {
          "base_uri": "https://localhost:8080/"
        },
        "id": "-IkYPGp9ecs6",
        "outputId": "74b0fba9-15cd-40db-c5ec-19eccc9684f9"
      },
      "execution_count": 7,
      "outputs": [
        {
          "output_type": "stream",
          "name": "stdout",
          "text": [
            "14.125\n"
          ]
        }
      ]
    },
    {
      "cell_type": "markdown",
      "source": [
        "## Karakteristik Algoritma Brute Force\n",
        "\n",
        "1. Algoritma brute force umumnya tidak “cerdas” dan tidak mangkus, karena ia membutuhkan jumlah langkah yang besar dalam penyelesaiannya. Kadang-kadang algoritma brute force disebut juga algoritma naif (naïve algorithm). `Mangkus` berarti 'berhasil guna'\n",
        "\n",
        "2. Algoritma Algoritma brute force seringkali seringkali merupakan merupakan pilihan pilihan yang kurang disukai karena ketidakmangkusannya itu, tetapi dengan mencari pola-pola yang mendasar, keteraturan, atau trik-trik khusus, biasanya akan membantu kita menemukan algoritma yang lebih cerdas dan lebih mangkus.\n",
        "\n",
        "3. Untuk masalah yang ukurannya kecil, kesederhanaan brute force biasanya lebih diperhitungkan daripada ketidakmangkusannya.\n",
        "\n",
        "Algoritma brute force sering digunakan sebagai basis bila membandingkan beberapa alternatif algoritma yang mangkus."
      ],
      "metadata": {
        "id": "7n9U-LFFez27"
      }
    },
    {
      "cell_type": "markdown",
      "source": [
        "### String Matching\n",
        "\n",
        "**Persoalan:**\n",
        "\n",
        "Diberikan\n",
        "\n",
        "a. teks (text), yaitu (long) string yang panjangnya n karakter\n",
        "\n",
        "b. pattern, yaitu string dengan panjang m karakter (m < n) yang akan dicari di dalam teks.\n",
        "\n",
        "Carilah lokasi pertama di dalam teks yang bersesuaian dengan pattern."
      ],
      "metadata": {
        "id": "VLF1pC_EfNVD"
      }
    },
    {
      "cell_type": "code",
      "source": [
        "# Matching Substring in String\n",
        "\n",
        "# Get matching substring in string\n",
        "# Initializing string\n",
        "test_str = \"GfG is good website\"\n",
        "\n",
        "# Initializing potential substrings\n",
        "test_list = [\"GfG\", \"site\", \"CS\", \"Geeks\", \"Tutorial\"]\n",
        "\n",
        "# Printing original string\n",
        "print(\"The original string is : \" + test_str)\n",
        "\n",
        "# Printing potential strings list\n",
        "print(\"The original list is : \" + str(test_list))\n",
        "\n",
        "# Using list comprehension\n",
        "# Get matching substring in string\n",
        "res = [sub for sub in test_list if sub in test_str]\n",
        "\n",
        "# Printing result\n",
        "print(\"The list of found substrings : \" + str(res))"
      ],
      "metadata": {
        "colab": {
          "base_uri": "https://localhost:8080/"
        },
        "id": "i2zz8WCZfhV4",
        "outputId": "9e24bff3-9d71-4017-ea29-34c50cf0cb86"
      },
      "execution_count": 10,
      "outputs": [
        {
          "output_type": "stream",
          "name": "stdout",
          "text": [
            "The original string is : GfG is good website\n",
            "The original list is : ['GfG', 'site', 'CS', 'Geeks', 'Tutorial']\n",
            "The list of found substrings : ['GfG', 'site']\n"
          ]
        }
      ]
    },
    {
      "cell_type": "markdown",
      "source": [
        "### Mencari Pasangan Titik Jarak Terdekat"
      ],
      "metadata": {
        "id": "GA8JnREogjj4"
      }
    },
    {
      "cell_type": "code",
      "source": [
        "from math import sqrt\n",
        "from random import randint\n",
        "\n",
        "titik = []\n",
        "n = int(input(\"Masukkan jumlah titik yang ingin Anda cari jaraknya: \"))\n",
        "\n",
        "for i in range(n):\n",
        "    titik.append([randint(0, 100), randint(0, 100)])\n",
        "\n",
        "print(\"Titik:\\n\", titik)\n",
        "\n",
        "def hitungjarak(lis):\n",
        "    lisjarak = []\n",
        "    for i in range(0, len(lis)-1):\n",
        "        for j in range(i+1, len(lis)):\n",
        "            jarak = sqrt((lis[i][0] - lis[j][0])**2 + (lis[i][1] - lis[j][1])**2)\n",
        "            lisjarak.append(jarak)\n",
        "            print(\"Titik:\", lis[i], \"Titik:\", lis[j], \":\", jarak)\n",
        "    return min(lisjarak)\n",
        "\n",
        "print(\"Jarak terdekat:\\n\", hitungjarak(titik))"
      ],
      "metadata": {
        "colab": {
          "base_uri": "https://localhost:8080/"
        },
        "id": "3xtMLdykgmOP",
        "outputId": "00f79c08-3415-46c6-ea12-526ea1c27ef7"
      },
      "execution_count": 12,
      "outputs": [
        {
          "output_type": "stream",
          "name": "stdout",
          "text": [
            "Masukkan jumlah titik yang ingin Anda cari jaraknya: 3\n",
            "Titik:\n",
            " [[2, 79], [45, 39], [56, 44]]\n",
            "Titik: [2, 79] Titik: [45, 39] : 58.728187440104094\n",
            "Titik: [2, 79] Titik: [56, 44] : 64.35060217278468\n",
            "Titik: [45, 39] Titik: [56, 44] : 12.083045973594572\n",
            "Jarak terdekat:\n",
            " 12.083045973594572\n"
          ]
        }
      ]
    },
    {
      "cell_type": "markdown",
      "source": [
        "## Kekuatan dan Kelemahan Metode Brute Force\n",
        "\n",
        "**Kekuatan:**\n",
        "\n",
        "1. Metode brute force dapat digunakan untuk memecahkan hampir sebagian besar masalah (wide applicability).\n",
        "\n",
        "2. Metode brute force sederhana dan mudah dimengerti\n",
        "\n",
        "3. Metode brute force menghasilkan algoritma yang layak untuk beberapa masalah penting seperti pencarian, pengurutan, pencocokan string, perkalian matriks.\n",
        "\n",
        "4. Metode brute force menghasilkan algoritma baku (standard) untuk tugastugas komputasi seperti penjumlahan/perkalian n buah bilangan, menentukan elemen minimum atau maksimum di dalam tabel (list).\n",
        "\n",
        "**Kelemahan:**\n",
        "\n",
        "1. Metode brute force jarang menghasilkan algoritma yang mangkus.\n",
        "\n",
        "2. Beberapa algoritma brute force lambat sehingga tidak dapat diterima.\n",
        "\n",
        "3. Tidak sekontruktif/sekreatif teknik pemecahan masalah lainnya."
      ],
      "metadata": {
        "id": "ziSA8v6siAaJ"
      }
    },
    {
      "cell_type": "markdown",
      "source": [
        "### Exhaustive Search\n",
        "\n",
        "- Teknik pencarian solusi secara solusi brute force untuk masalah yang melibatkan pencarian elemen dengan sifat khusus.\n",
        "\n",
        "- Biasanya di antara objek-objek kombinatorik seperti permutasi, kombinasi, atau himpunan bagian dari sebuah himpunan."
      ],
      "metadata": {
        "id": "ziQfjQAfiT9Q"
      }
    },
    {
      "cell_type": "markdown",
      "source": [
        "### Algoritma Brute Force: Linear Search"
      ],
      "metadata": {
        "id": "XVucx6hmjAZZ"
      }
    },
    {
      "cell_type": "code",
      "source": [
        "# Find Maximum Value in Linear Search\n",
        "\n",
        "def find_maximum(lst):\n",
        "    max = None\n",
        "    for el in lst:\n",
        "        if max == None or el > max:\n",
        "            max = el\n",
        "    return max\n",
        "\n",
        "test_scores = [88, 93, 75, 100, 80, 67, 71, 92, 90, 83]\n",
        "print(find_maximum(test_scores)) # returns 100"
      ],
      "metadata": {
        "colab": {
          "base_uri": "https://localhost:8080/"
        },
        "id": "F2_yk2w-jC4B",
        "outputId": "242e719e-2edf-49e2-d2ee-98de6fb727a5"
      },
      "execution_count": 13,
      "outputs": [
        {
          "output_type": "stream",
          "name": "stdout",
          "text": [
            "100\n"
          ]
        }
      ]
    },
    {
      "cell_type": "markdown",
      "source": [
        "### Algoritma Brute Force: Bubble Sort"
      ],
      "metadata": {
        "id": "2aGW3WIdjcEN"
      }
    },
    {
      "cell_type": "code",
      "source": [
        "def bubbleSort(alist):\n",
        "    for passnum in range(len(alist) - 1, 0, -1):\n",
        "        for i in range(passnum):\n",
        "            if alist[i] > alist[i+1]:\n",
        "                temp = alist[i]\n",
        "                alist[i] = alist[i+1]\n",
        "                alist[i+1] = temp\n",
        "\n",
        "alist = [54, 26, 93, 17, 77, 31, 44, 55, 20]\n",
        "bubbleSort(alist)\n",
        "print(alist)"
      ],
      "metadata": {
        "colab": {
          "base_uri": "https://localhost:8080/"
        },
        "id": "3AaXTU_VkARv",
        "outputId": "000bb379-3ebb-4e84-d386-409969f99a94"
      },
      "execution_count": 17,
      "outputs": [
        {
          "output_type": "stream",
          "name": "stdout",
          "text": [
            "[17, 20, 26, 31, 44, 54, 55, 77, 93]\n"
          ]
        }
      ]
    },
    {
      "cell_type": "markdown",
      "source": [
        "## Latihan\n",
        "\n",
        "Carilah string g dari deret a sampai h dengan sequential search!"
      ],
      "metadata": {
        "id": "TZj4ScpMk9dG"
      }
    },
    {
      "cell_type": "code",
      "source": [
        "def sequentialSearch(alist, item):\n",
        "    pos = 0\n",
        "    found = False\n",
        "\n",
        "    while pos < len(alist) and not found:\n",
        "        if alist[pos] == item:\n",
        "            found = True\n",
        "        else:\n",
        "            pos = pos + 1\n",
        "    return found\n",
        "\n",
        "testlist = ['a', 'b', 'c', 'd', 'e', 'f', 'g', 'h']\n",
        "print(sequentialSearch(testlist, 'g'))"
      ],
      "metadata": {
        "colab": {
          "base_uri": "https://localhost:8080/"
        },
        "id": "prmJmyEuk7pf",
        "outputId": "4375845a-13a0-465b-ec7b-21d41384d8ca"
      },
      "execution_count": 19,
      "outputs": [
        {
          "output_type": "stream",
          "name": "stdout",
          "text": [
            "True\n",
            "False\n"
          ]
        }
      ]
    },
    {
      "cell_type": "markdown",
      "source": [
        "## Algoritma Brute Force: Pangkat"
      ],
      "metadata": {
        "id": "ry-NpQjalb5P"
      }
    },
    {
      "cell_type": "code",
      "source": [
        "bilangan = int(input('Masukkan bilangan: '))\n",
        "pangkat = int(input('Masukkan pangkat: '))\n",
        "\n",
        "def hitung_pangkat(bilangan, pangkat):\n",
        "    if pangkat > 1:\n",
        "        return bilangan * hitung_pangkat(bilangan, pangkat - 1)\n",
        "\n",
        "    return bilangan\n",
        "\n",
        "hasil = hitung_pangkat(bilangan, pangkat)\n",
        "print(f'Hasil = {hasil}')"
      ],
      "metadata": {
        "colab": {
          "base_uri": "https://localhost:8080/"
        },
        "id": "MSz6UEw-limD",
        "outputId": "83c92dda-deda-40e0-e9ad-18a1b0427b69"
      },
      "execution_count": 2,
      "outputs": [
        {
          "output_type": "stream",
          "name": "stdout",
          "text": [
            "Masukkan bilangan: 4\n",
            "Masukkan pangkat: 6\n",
            "Hasil = 4096\n"
          ]
        }
      ]
    },
    {
      "cell_type": "markdown",
      "source": [
        "### Algoritma Brute Force: Faktorial"
      ],
      "metadata": {
        "id": "FwRmz-lwm35l"
      }
    },
    {
      "cell_type": "code",
      "source": [
        "n = int(input('Masukkan nilai n: '))\n",
        "\n",
        "def hitung_faktorial(n):\n",
        "    if n > 2:\n",
        "        return n * hitung_faktorial(n - 1)\n",
        "    return 2\n",
        "\n",
        "faktorial = hitung_faktorial(n)\n",
        "print(f'{n}! = {faktorial}')"
      ],
      "metadata": {
        "colab": {
          "base_uri": "https://localhost:8080/"
        },
        "id": "7KhRRO53m3iF",
        "outputId": "5cb054a7-3cbf-462d-f7ff-27f040a2b6e9"
      },
      "execution_count": 3,
      "outputs": [
        {
          "output_type": "stream",
          "name": "stdout",
          "text": [
            "Masukkan nilai n: 5\n",
            "5! = 120\n"
          ]
        }
      ]
    },
    {
      "cell_type": "markdown",
      "source": [
        "### Algoritma Brute Force: String Matching"
      ],
      "metadata": {
        "id": "Yl5zRz9fnge0"
      }
    },
    {
      "cell_type": "code",
      "source": [
        "def string_match(string, sub_str):\n",
        "    # Brute force string matching\n",
        "    for i in range(len(string) - len(sub_str) + 1):\n",
        "        index = i # index point to the 1 Three characters to be compared\n",
        "        for j in range(len(sub_str)):\n",
        "            if string[index] == sub_str[j]:\n",
        "                index += 1\n",
        "            else:\n",
        "                break\n",
        "            if index - i == len(sub_str):\n",
        "                return i\n",
        "    return -1\n",
        "\n",
        "if __name__ == \"__main__\":\n",
        "    print(string_match(\"adbcbdc\", \"bdc\"))"
      ],
      "metadata": {
        "colab": {
          "base_uri": "https://localhost:8080/"
        },
        "id": "ILOYANc8nw5V",
        "outputId": "3341a69c-3b76-44d5-d0bc-67483224d5b5"
      },
      "execution_count": 33,
      "outputs": [
        {
          "output_type": "stream",
          "name": "stdout",
          "text": [
            "4\n"
          ]
        }
      ]
    },
    {
      "cell_type": "markdown",
      "source": [
        "## Latihan\n",
        "\n",
        "Diketahui string terdiri dari angka 1 sampai 9, jika mencari 56. Bagaimana hasilnya?"
      ],
      "metadata": {
        "id": "mb2x6SLgtrhS"
      }
    },
    {
      "cell_type": "code",
      "source": [
        "def string_match(string, sub_str):\n",
        "    # Brute force string matching\n",
        "    for i in range(len(string) - len(sub_str) + 1):\n",
        "        index = i # index point to the 1 Three characters to be compared\n",
        "        for j in range(len(sub_str)):\n",
        "            if string[index] == sub_str[j]:\n",
        "                index += 1\n",
        "            else:\n",
        "                break\n",
        "            if index - i == len(sub_str):\n",
        "                return i\n",
        "    return -1\n",
        "\n",
        "if __name__ == \"__main__\":\n",
        "    print(string_match(\"123456789\", \"56\"))"
      ],
      "metadata": {
        "colab": {
          "base_uri": "https://localhost:8080/"
        },
        "id": "eRLonfQ0tzKz",
        "outputId": "28ee5ec7-b814-4754-98a3-642f8c0f808e"
      },
      "execution_count": 34,
      "outputs": [
        {
          "output_type": "stream",
          "name": "stdout",
          "text": [
            "4\n"
          ]
        }
      ]
    },
    {
      "cell_type": "markdown",
      "source": [
        "### Penerapan Algoritma Greedy pada TSP (Travelling Salesman/Salesperson Problem)"
      ],
      "metadata": {
        "id": "gXf05fOfuOKJ"
      }
    },
    {
      "cell_type": "code",
      "source": [
        "# Bagian 1\n",
        "\n",
        "import random\n",
        "from itertools import permutations\n",
        "alltours = permutations\n",
        "\n",
        "def distance_tour(aTour):\n",
        "    return sum(distance_points(aTour[i - 1], aTour[i])\n",
        "        for i in range(len(aTour)))\n",
        "\n",
        "aCity = complex\n",
        "\n",
        "def distance_points(first, second):\n",
        "    return abs(first - second)\n",
        "\n",
        "def generate_cities(number_of_cities):\n",
        "    seed = 111\n",
        "    width = 500\n",
        "    height = 300\n",
        "\n",
        "    random.seed((number_of_cities, seed))\n",
        "\n",
        "    return frozenset(aCity(random.randint(1, width), random.randint(1, height))\n",
        "        for c in range(number_of_cities))\n",
        "\n",
        "# Bagian 2\n",
        "\n",
        "%matplotlib inline\n",
        "\n",
        "import matplotlib.pyplot as plt\n",
        "\n",
        "def visualize_tour(tour, style='bo-'):\n",
        "    if len(tour) > 1000: plt.figure(figsize=(15, 10))\n",
        "    start = tour[0:1]\n",
        "    visualize_segment(tour + start, style)\n",
        "    visualize_segment(start, 'rD')\n",
        "\n",
        "def visualize_segment(segment, style='bo-'):\n",
        "    plt.plot([X(c) for c in segment], [Y(c) for c in segment], style, clip_on=False)\n",
        "    plt.axis('scaled')\n",
        "    plt.axis('off')\n",
        "\n",
        "def X(city): \"X axis\"; return city.real\n",
        "\n",
        "def Y(city): \"Y axis\"; return city.imag\n",
        "\n",
        "# Bagian 3\n",
        "\n",
        "from time import process_time\n",
        "from collections import Counter\n",
        "\n",
        "def tsp(algorithm, cities):\n",
        "    t0 = process_time()\n",
        "    tour = algorithm(cities)\n",
        "    t1 = process_time()\n",
        "    assert Counter(tour) == Counter(cities)\n",
        "    visualize_tour(tour)\n",
        "    print(\"{}:{} cities => tour length {:.0f}(in {:.3f} sef)\".format(name(algorithm), len(tour), distance_tour(tour), t1-t0))\n",
        "\n",
        "def name(algorithm): return algorithm.__name__.replace('_tsp', '')\n",
        "\n",
        "# Bagian 4\n",
        "\n",
        "def brute_force(cities):\n",
        "    \"Generate all possible tours of the cities and chose the shortest tour.\"\n",
        "    return shortest_tour(alltours(cities))\n",
        "\n",
        "def shortest_tour(tours): return min(tours, key=distance_tour)\n",
        "\n",
        "# Bagian 5\n",
        "\n",
        "tsp(brute_force, generate_cities(11))"
      ],
      "metadata": {
        "colab": {
          "base_uri": "https://localhost:8080/",
          "height": 493
        },
        "id": "9CBEtfo0uUDw",
        "outputId": "ba3905af-f380-460d-d3a7-13b47a350573"
      },
      "execution_count": 27,
      "outputs": [
        {
          "output_type": "stream",
          "name": "stderr",
          "text": [
            "<ipython-input-27-400cc3a4d021>:21: DeprecationWarning: Seeding based on hashing is deprecated\n",
            "since Python 3.9 and will be removed in a subsequent version. The only \n",
            "supported seed types are: None, int, float, str, bytes, and bytearray.\n",
            "  random.seed((number_of_cities, seed))\n"
          ]
        },
        {
          "output_type": "stream",
          "name": "stdout",
          "text": [
            "brute_force:11 cities => tour length 1131(in 164.748 sef)\n"
          ]
        },
        {
          "output_type": "display_data",
          "data": {
            "text/plain": [
              "<Figure size 640x480 with 1 Axes>"
            ],
            "image/png": "[encoded data removed]"
          },
          "metadata": {}
        }
      ]
    }
  ]
}
