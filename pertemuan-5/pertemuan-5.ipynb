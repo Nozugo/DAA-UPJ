{
  "nbformat": 4,
  "nbformat_minor": 0,
  "metadata": {
    "colab": {
      "provenance": []
    },
    "kernelspec": {
      "name": "python3",
      "display_name": "Python 3"
    },
    "language_info": {
      "name": "python"
    }
  },
  "cells": [
    {
      "cell_type": "markdown",
      "source": [
        "# Pertemuan 5 - Desain dan Analisis Algoritma\n",
        "---\n",
        "\n",
        "`Nama:` Muhammad Satrio\n",
        "\n",
        "`NIM:` 2022071059"
      ],
      "metadata": {
        "id": "yyxTUjrFTTiA"
      }
    },
    {
      "cell_type": "markdown",
      "source": [
        "## Divide and Conquer\n",
        "Algoritma *divide and conquer* adalah algoritma yang menyelesaikan masalah dengan membaginya menjadi sub-masalah yang berukuran lebih kecil.\n",
        "\n",
        "**Langkah Penyelesaian:**\n",
        "- `Divide`  : Membagi masalah menjadi beberapa bagian yang sama\n",
        "- `Conquer` : Menyelesaikan setiap masalah\n",
        "- `Combine` : Menyatukan setiap solusi dari setiap bagian"
      ],
      "metadata": {
        "id": "llj_h17rULhY"
      }
    },
    {
      "cell_type": "code",
      "source": [
        "def divideAndConquer_Max(arr, ind, len):\n",
        "    if ind == len - 2:\n",
        "        if arr[ind] > arr[ind + 1]:\n",
        "            return arr[ind]\n",
        "        else:\n",
        "            return arr[ind + 1]\n",
        "\n",
        "    maximum = divideAndConquer_Max(arr, ind + 1, len)\n",
        "\n",
        "    if arr[ind] > maximum:\n",
        "        return arr[ind]\n",
        "    else:\n",
        "        return maximum\n",
        "\n",
        "def divideAndConquer_Min(arr, ind, len):\n",
        "    if ind == len - 2:\n",
        "        if arr[ind] < arr[ind + 1]:\n",
        "            return arr[ind]\n",
        "        else:\n",
        "            return arr[ind + 1]\n",
        "\n",
        "    minimum = divideAndConquer_Min(arr, ind + 1, len)\n",
        "\n",
        "    if arr[ind] < minimum:\n",
        "        return arr[ind]\n",
        "    else:\n",
        "        return minimum\n",
        "\n",
        "if __name__ == '__main__':\n",
        "    arr = [4, 12, 23, 9, 21, 1, 35, 2, 24]\n",
        "\n",
        "    maximum = divideAndConquer_Max(arr, 0, len(arr))\n",
        "    minimum = divideAndConquer_Min(arr, 0, len(arr))\n",
        "\n",
        "    print(\"The minimum number in the array is\", divideAndConquer_Min(arr, 0, len(arr)))\n",
        "    print(\"The maximum number in the array is\", divideAndConquer_Max(arr, 0, len(arr)))\n",
        "\n"
      ],
      "metadata": {
        "colab": {
          "base_uri": "https://localhost:8080/"
        },
        "id": "eiVGb66XTSC4",
        "outputId": "aefadb0e-d5b9-40e8-a287-a408ee1dfbc3"
      },
      "execution_count": null,
      "outputs": [
        {
          "output_type": "stream",
          "name": "stdout",
          "text": [
            "The minimum number in the array is 1\n",
            "The maximum number in the array is 35\n"
          ]
        }
      ]
    },
    {
      "cell_type": "markdown",
      "source": [
        "## Merge Sort"
      ],
      "metadata": {
        "id": "CRIfGoBEW3oN"
      }
    },
    {
      "cell_type": "code",
      "source": [
        "def mergeSort(array):\n",
        "    if len(array) > 1:\n",
        "        r = len(array) // 2\n",
        "        L = array[:r]\n",
        "        M = array[r:]\n",
        "\n",
        "        mergeSort(L)\n",
        "        mergeSort(M)\n",
        "\n",
        "        i = j = k = 0\n",
        "\n",
        "        while i < len(L) and j < len(M):\n",
        "            print(\"L:\", L, \"M:\", M, \"array[k]:\", array)\n",
        "\n",
        "            if L[i] < M[j]:\n",
        "                array[k] = L[i]\n",
        "                i += 1\n",
        "            else:\n",
        "                array[k] = M[j]\n",
        "                j += 1\n",
        "            k += 1\n",
        "\n",
        "        while i < len(L):\n",
        "            array[k] = L[i]\n",
        "            i += 1\n",
        "            k += 1\n",
        "\n",
        "        while j < len(M):\n",
        "            array[k] = M[j]\n",
        "            j += 1\n",
        "            k += 1\n",
        "\n",
        "def printList(array):\n",
        "    for i in range (len(array)):\n",
        "        print(array[i], end=\" \")\n",
        "    print()\n",
        "\n",
        "if __name__ == '__main__':\n",
        "    array = [4, 12, 23, 9, 21, 1, 35, 2, 24]\n",
        "\n",
        "    mergeSort(array)\n",
        "\n",
        "    print(\"Sorted array is: \")\n",
        "    printList(array)\n"
      ],
      "metadata": {
        "colab": {
          "base_uri": "https://localhost:8080/"
        },
        "id": "OHbTqg-sW3A-",
        "outputId": "4b070791-572a-4f55-e5b4-1c8950f69ac4"
      },
      "execution_count": 36,
      "outputs": [
        {
          "output_type": "stream",
          "name": "stdout",
          "text": [
            "L: [4] M: [12] array[k]: [4, 12]\n",
            "L: [23] M: [9] array[k]: [23, 9]\n",
            "L: [4, 12] M: [9, 23] array[k]: [4, 12, 23, 9]\n",
            "L: [4, 12] M: [9, 23] array[k]: [4, 12, 23, 9]\n",
            "L: [4, 12] M: [9, 23] array[k]: [4, 9, 23, 9]\n",
            "L: [21] M: [1] array[k]: [21, 1]\n",
            "L: [2] M: [24] array[k]: [2, 24]\n",
            "L: [35] M: [2, 24] array[k]: [35, 2, 24]\n",
            "L: [35] M: [2, 24] array[k]: [2, 2, 24]\n",
            "L: [1, 21] M: [2, 24, 35] array[k]: [21, 1, 35, 2, 24]\n",
            "L: [1, 21] M: [2, 24, 35] array[k]: [1, 1, 35, 2, 24]\n",
            "L: [1, 21] M: [2, 24, 35] array[k]: [1, 2, 35, 2, 24]\n",
            "L: [4, 9, 12, 23] M: [1, 2, 21, 24, 35] array[k]: [4, 12, 23, 9, 21, 1, 35, 2, 24]\n",
            "L: [4, 9, 12, 23] M: [1, 2, 21, 24, 35] array[k]: [1, 12, 23, 9, 21, 1, 35, 2, 24]\n",
            "L: [4, 9, 12, 23] M: [1, 2, 21, 24, 35] array[k]: [1, 2, 23, 9, 21, 1, 35, 2, 24]\n",
            "L: [4, 9, 12, 23] M: [1, 2, 21, 24, 35] array[k]: [1, 2, 4, 9, 21, 1, 35, 2, 24]\n",
            "L: [4, 9, 12, 23] M: [1, 2, 21, 24, 35] array[k]: [1, 2, 4, 9, 21, 1, 35, 2, 24]\n",
            "L: [4, 9, 12, 23] M: [1, 2, 21, 24, 35] array[k]: [1, 2, 4, 9, 12, 1, 35, 2, 24]\n",
            "L: [4, 9, 12, 23] M: [1, 2, 21, 24, 35] array[k]: [1, 2, 4, 9, 12, 21, 35, 2, 24]\n",
            "Sorted array is: \n",
            "1 2 4 9 12 21 23 24 35 \n"
          ]
        }
      ]
    },
    {
      "cell_type": "markdown",
      "source": [
        "## Quick Sort\n",
        "\n",
        "**Algoritma:**\n",
        "- Untuk kasus n = 1, maka tabel A sudah terurut dengan sendirinya **(SOLVE)**.\n",
        "- Untuk kasus n > 1, maka:\n",
        "    - `DIVIDE`  : bagi tabel A menjadi dua, masing2 bagian berukuran n/2 elemen.\n",
        "    - `CONQUER` : secara rekursif, divide & conquer.\n",
        "    - `MERGE`   : gabung kedua bagian sehingga diperoleh tabel A yang terurut.\n",
        "\n",
        "Terdapat beberapa varian Algoritma Quicksort. Versi orisinal adalah dari Hoare seperti di bawah ini:\n",
        "\n",
        "**Teknik mem-partisi tabel:**\n",
        "\n",
        "- Pilih x = {A[1], A[2], ..., A[n]} sebagai pivot.\n",
        "- Pindai tabel dari kiri sampai ditemukan A[p] ≥ x.\n",
        "- Pindai tabel dari kanan sampai ditemukan A[q] ≤ x.\n",
        "- Pertukarkan A[p] → A[q].\n",
        "- Ulangi (ii), dari posisi p + 1, dan (iii), dari posisi q- 1, sampai kedua pemindaian bertemu di tengah tabel (p ≥ q)."
      ],
      "metadata": {
        "id": "4M2T29T5h3Ue"
      }
    },
    {
      "cell_type": "code",
      "source": [
        "def partition(array, low, high):\n",
        "\n",
        "    pivot = array[high]\n",
        "\n",
        "    i = low - 1\n",
        "\n",
        "    for j in range (low, high):\n",
        "        if array[j] <= pivot:\n",
        "            i += 1\n",
        "            (array[i], array[j]) = (array[j], array[i])\n",
        "\n",
        "    (array[i + 1], array[high]) = (array[high], array[i + 1])\n",
        "\n",
        "    return i + 1\n",
        "\n",
        "def quickSort(array, low, high):\n",
        "    if low < high:\n",
        "        pi = partition(array, low, high)\n",
        "\n",
        "        quickSort(array, low, pi - 1)\n",
        "        quickSort(array, pi + 1, high)\n",
        "\n",
        "data = [4, 12, 23, 9, 21, 1, 35, 2, 24]\n",
        "print(\"Unsorted Array\")\n",
        "print(data)\n",
        "\n",
        "size = len(data)\n",
        "\n",
        "quickSort(data, 0, size - 1)\n",
        "\n",
        "print(\"Sorted Array in Ascending Order:\")\n",
        "print(data)"
      ],
      "metadata": {
        "colab": {
          "base_uri": "https://localhost:8080/"
        },
        "id": "FWsqjH3DaLnD",
        "outputId": "ead54b2a-36a7-427b-e076-c28a211deb45"
      },
      "execution_count": 37,
      "outputs": [
        {
          "output_type": "stream",
          "name": "stdout",
          "text": [
            "Unsorted Array\n",
            "[4, 12, 23, 9, 21, 1, 35, 2, 24]\n",
            "Sorted Array in Ascending Order:\n",
            "[1, 2, 4, 9, 12, 21, 23, 24, 35]\n"
          ]
        }
      ]
    },
    {
      "cell_type": "markdown",
      "source": [
        "## Implementasi Algoritma\n",
        "**Inversi dalam suatu array**\n",
        "\n",
        "Menghitung berapa banyak *perubahan* yang harus dilakukan untuk mengubah array menjadi bentuk yang urut. Ketika array sudah diurutkan, berarti memerlukan 0 inversi."
      ],
      "metadata": {
        "id": "HEZzP6g5l-C-"
      }
    },
    {
      "cell_type": "code",
      "source": [
        "def countInversion(arr):\n",
        "    result = 0\n",
        "    for i in range(len(arr)):\n",
        "        for j in range(i + 1, len(arr)):\n",
        "            if arr[i] > arr[j]:\n",
        "                result += 1\n",
        "                #print(\"arr[i]:\", arr[i], \"arr[j]:\", arr[j], \"i:\", i, \"j:\", j, \"result:\", result)\n",
        "\n",
        "    return result\n",
        "\n",
        "arr = [21, 70, 36, 14, 25]\n",
        "\n",
        "result = countInversion(arr)\n",
        "print(result)"
      ],
      "metadata": {
        "colab": {
          "base_uri": "https://localhost:8080/"
        },
        "id": "7jqHPM-hl_rI",
        "outputId": "c5cbc9f4-7385-4de6-da74-7e26e336819e"
      },
      "execution_count": 47,
      "outputs": [
        {
          "output_type": "stream",
          "name": "stdout",
          "text": [
            "6\n"
          ]
        }
      ]
    },
    {
      "cell_type": "code",
      "source": [
        "def countInversion(arr):\n",
        "    icount = 0\n",
        "    if len(arr) <= 1:\n",
        "        return icount\n",
        "\n",
        "    mid = len(arr) // 2\n",
        "    left = arr[:mid]\n",
        "    right = arr[mid:]\n",
        "    icount += countInversion(left)\n",
        "    icount += countInversion(right)\n",
        "\n",
        "    i = j = k = 0\n",
        "\n",
        "    while i < len(left) and j < len(right):\n",
        "        if left[i] < right[j]:\n",
        "            arr[k] = left[i]\n",
        "            i += 1\n",
        "        else:\n",
        "            arr[k] = right[j]\n",
        "            j += 1\n",
        "            icount += (mid - i)\n",
        "        k += 1\n",
        "\n",
        "    while i < len(left):\n",
        "        arr[k] = left[i]\n",
        "        i += 1\n",
        "        k += 1\n",
        "    while j < len(right):\n",
        "        arr[k] = right[j]\n",
        "        j += 1\n",
        "        k += 1\n",
        "    return icount\n",
        "\n",
        "arr = [1, 20, 6, 4, 5]\n",
        "\n",
        "result = countInversion(arr)\n",
        "print(result)\n"
      ],
      "metadata": {
        "colab": {
          "base_uri": "https://localhost:8080/"
        },
        "id": "T3oHxaj8n4oC",
        "outputId": "8f2feaff-ffea-4931-efaa-b833ba113932"
      },
      "execution_count": 48,
      "outputs": [
        {
          "output_type": "stream",
          "name": "stdout",
          "text": [
            "5\n"
          ]
        }
      ]
    },
    {
      "cell_type": "markdown",
      "source": [
        "**Maximum Subarray Sum**\n",
        "\n",
        "Mencari hasil penjumlahan terbesar dari suatu array yang isinya nilai negatif dan positif. Misal suatu array isinya {-2, -5, 6, -2, -3, 1, 5, -6}, maka penjumlahan terbesar disusun dari {6, -2, -3, 1, 5} = 7"
      ],
      "metadata": {
        "id": "jg3-gTSwoykb"
      }
    },
    {
      "cell_type": "code",
      "source": [
        "def maxSubSum(arr):\n",
        "    max_so_far = 0\n",
        "    max_ending_here = 0\n",
        "    for i in range(len(arr)):\n",
        "        max_ending_here += arr[i]\n",
        "        if max_ending_here > max_so_far:\n",
        "            max_so_far = max_ending_here\n",
        "        if max_ending_here < 0:\n",
        "            max_ending_here = 0\n",
        "    return max_so_far\n",
        "\n",
        "arr = [-2, -5, 6, -2, -3, 1, 5, -6]\n",
        "result = maxSubSum(arr)\n",
        "print(result)"
      ],
      "metadata": {
        "colab": {
          "base_uri": "https://localhost:8080/"
        },
        "id": "GiNDE6DAo7F8",
        "outputId": "9837eeed-4ab9-4bb8-8e28-7a533e68d688"
      },
      "execution_count": 49,
      "outputs": [
        {
          "output_type": "stream",
          "name": "stdout",
          "text": [
            "7\n"
          ]
        }
      ]
    },
    {
      "cell_type": "code",
      "source": [
        "def maxCrossingSum(arr, low, mid, high):\n",
        "    result = 0\n",
        "    leftSum = float('-infinity')\n",
        "\n",
        "    for i in range(mid, low - 1, -1):\n",
        "        result += arr[i]\n",
        "        if result > leftSum:\n",
        "            leftSum = result\n",
        "\n",
        "    result = 0\n",
        "    rightSum = float('-infinity')\n",
        "\n",
        "    for i in range(mid + 1, high + 1):\n",
        "        result += arr[i]\n",
        "        if result > rightSum:\n",
        "            rightSum = result\n",
        "\n",
        "    return leftSum + rightSum\n",
        "\n",
        "def maxSum(arr, low, high):\n",
        "    if low == high:\n",
        "        return arr[low]\n",
        "    mid = (low + high) // 2\n",
        "    return max(maxSum(arr, low, mid), maxSum(arr, mid + 1, high), maxCrossingSum(arr, low, mid, high))\n",
        "\n",
        "arr = [-2, -5, 6, -2, -3, 1, 5, -6]\n",
        "\n",
        "result = maxSum(arr, 0, len(arr) - 1)\n",
        "print(result)"
      ],
      "metadata": {
        "colab": {
          "base_uri": "https://localhost:8080/"
        },
        "id": "tuNuAMvgpt7l",
        "outputId": "1ab98e28-e0c4-46ed-a270-9ada75d64984"
      },
      "execution_count": 52,
      "outputs": [
        {
          "output_type": "stream",
          "name": "stdout",
          "text": [
            "7\n"
          ]
        }
      ]
    },
    {
      "cell_type": "code",
      "source": [
        "print(float('-infinity'))"
      ],
      "metadata": {
        "colab": {
          "base_uri": "https://localhost:8080/"
        },
        "id": "WeHSWHbztzCm",
        "outputId": "31a71990-7462-436b-98d3-64fa2f301a80"
      },
      "execution_count": 59,
      "outputs": [
        {
          "output_type": "stream",
          "name": "stdout",
          "text": [
            "-inf\n"
          ]
        }
      ]
    },
    {
      "cell_type": "markdown",
      "source": [
        "**Longest Common Prefix**\n",
        "\n",
        "Mencari potongan suku kata (prefix) yang sama dan terpanjang"
      ],
      "metadata": {
        "id": "X04v8zRcsEWZ"
      }
    },
    {
      "cell_type": "code",
      "source": [
        "def longestCommonPrefix(a):\n",
        "    size = len(a)\n",
        "    if (size == 0):\n",
        "        return \"\"\n",
        "\n",
        "    if (size == 1):\n",
        "        return a[0]\n",
        "\n",
        "    a.sort()\n",
        "\n",
        "    end = min(len(a[0]), len(a[size - 1]))\n",
        "\n",
        "    i = 0\n",
        "\n",
        "    while (i < end and a[0][i] == a[size - 1][i]):\n",
        "        i += 1\n",
        "\n",
        "    pre = a[0][0:i]\n",
        "\n",
        "    return pre\n",
        "\n",
        "arr = [\"geeksforgeeks\", \"geeks\", \"geek\", \"geezer\"]\n",
        "result = longestCommonPrefix(arr)\n",
        "print(result)\n",
        "\n",
        "arr = [\"apple\", \"ape\", \"april\"]\n",
        "result = longestCommonPrefix(arr)\n",
        "print(result)\n"
      ],
      "metadata": {
        "colab": {
          "base_uri": "https://localhost:8080/"
        },
        "id": "7iPPMMCCsMQD",
        "outputId": "8f157386-cb39-4272-ed92-c065bc662a46"
      },
      "execution_count": 56,
      "outputs": [
        {
          "output_type": "stream",
          "name": "stdout",
          "text": [
            "gee\n",
            "ap\n"
          ]
        }
      ]
    },
    {
      "cell_type": "markdown",
      "source": [
        "**Median dua array urut sama ukuran**\n",
        "\n",
        "Mencari nilai tengah dari dua array yang berurutan nilainya, dan ukurannya sama"
      ],
      "metadata": {
        "id": "-KgVp28Fs-6w"
      }
    },
    {
      "cell_type": "code",
      "source": [
        "def medianOfArray(arr1, arr2, n):\n",
        "    m1 = -1\n",
        "    m2 = -1\n",
        "    count = 0\n",
        "    i = j = 0\n",
        "\n",
        "    while count < n + 1:\n",
        "        count += 1\n",
        "\n",
        "        if i == n:\n",
        "            m1 = m2\n",
        "            m2 = arr2[0]\n",
        "            break\n",
        "        if j == n:\n",
        "            m1 = m2\n",
        "            m2 = arr1[0]\n",
        "            break\n",
        "        if arr1[i] < arr2[j]:\n",
        "            m1 = m2\n",
        "            m2 = arr1[i]\n",
        "            i += 1\n",
        "        else:\n",
        "            m1 = m2\n",
        "            m2 = arr2[j]\n",
        "            j += 1\n",
        "\n",
        "    return (m1 + m2) // 2\n",
        "\n",
        "arr1 = [1, 12, 15, 26, 38]\n",
        "arr2 = [2, 13, 17, 30, 45]\n",
        "\n",
        "print(medianOfArray(arr1, arr2, len(arr1)))"
      ],
      "metadata": {
        "colab": {
          "base_uri": "https://localhost:8080/"
        },
        "id": "eVLMrzMVtHVR",
        "outputId": "588314cd-e0ad-460f-dc03-836f4500961c"
      },
      "execution_count": 58,
      "outputs": [
        {
          "output_type": "stream",
          "name": "stdout",
          "text": [
            "16\n"
          ]
        }
      ]
    },
    {
      "cell_type": "markdown",
      "source": [
        "**Median dua array urut berbeda ukuran**\n",
        "\n",
        "Mencari nilai tengah array yang berurutan, namun ukurannya berbeda."
      ],
      "metadata": {
        "id": "hj0kk2XVvf_I"
      }
    },
    {
      "cell_type": "code",
      "source": [
        "def Solution(arr):\n",
        "    n = len(arr)\n",
        "    if n % 2 == 0:\n",
        "        z = n // 2\n",
        "        e = arr[z]\n",
        "        q = arr[z - 1]\n",
        "        ans = (e + q) / 2\n",
        "        return ans\n",
        "    else:\n",
        "        z = n // 2\n",
        "        ans = arr[z]\n",
        "        return ans\n",
        "\n",
        "arr1 = [-5, 3, 6, 12, 15]\n",
        "arr2 = [-12, -10, -6, -3, 4, 10]\n",
        "\n",
        "arr3 = arr1 + arr2\n",
        "arr3.sort()\n",
        "print(\"Median =\", Solution(arr3))"
      ],
      "metadata": {
        "colab": {
          "base_uri": "https://localhost:8080/"
        },
        "id": "sgIQiP0svlxA",
        "outputId": "0598e2c6-56d8-40e3-9e2c-ea7d50a32d0e"
      },
      "execution_count": 61,
      "outputs": [
        {
          "output_type": "stream",
          "name": "stdout",
          "text": [
            "Median = 3\n"
          ]
        }
      ]
    },
    {
      "cell_type": "markdown",
      "source": [
        "**Floor in sorted array**\n",
        "\n",
        "Mencari elemen terbesar dari array dan lebih kecil dari suatu angka"
      ],
      "metadata": {
        "id": "v2KStGUkx0es"
      }
    },
    {
      "cell_type": "code",
      "source": [
        "def floorSorted(arr, low, high, x):\n",
        "    if low > high:\n",
        "        return - 1\n",
        "\n",
        "    if arr[low] > x:\n",
        "        return -1\n",
        "\n",
        "    if arr[high] <= x:\n",
        "        return arr[high]\n",
        "\n",
        "    mid = (low + high) // 2\n",
        "\n",
        "    if arr[mid] == x:\n",
        "        return arr[mid]\n",
        "\n",
        "    if mid > 0 and x >= arr[mid - 1] and arr[mid] > x:\n",
        "        return arr[mid - 1]\n",
        "\n",
        "    if mid < high and x < arr[mid + 1] and x >= arr[mid]:\n",
        "        return arr[mid]\n",
        "\n",
        "    if x > arr[mid]:\n",
        "        return floorSorted(arr, mid + 1, high, x)\n",
        "    else:\n",
        "        return floorSorted(arr, low, mid - 1, x)\n",
        "\n",
        "arr = [1, 2, 8, 10, 12, 14, 19]\n",
        "x = 5\n",
        "print(floorSorted(arr, 0, len(arr) - 1, x))\n"
      ],
      "metadata": {
        "colab": {
          "base_uri": "https://localhost:8080/"
        },
        "id": "qdaw863Ax8E6",
        "outputId": "df7d60ad-a25d-4eb7-8a48-be76ce85fe82"
      },
      "execution_count": 63,
      "outputs": [
        {
          "output_type": "stream",
          "name": "stdout",
          "text": [
            "2\n"
          ]
        }
      ]
    },
    {
      "cell_type": "markdown",
      "source": [
        "**Nilai Terdekat**\n",
        "\n",
        "Mencari nilai terdekat suatu angka dalam suatu array"
      ],
      "metadata": {
        "id": "lXC1weMgykeO"
      }
    },
    {
      "cell_type": "code",
      "source": [
        "def closestNumber(arr, low, high, x):\n",
        "    if low > high:\n",
        "        return -1\n",
        "    if arr[high] <= x:\n",
        "        return arr[high]\n",
        "    if arr[low] >= x:\n",
        "        return arr[low]\n",
        "    mid = (low + high) // 2\n",
        "    if arr[mid] == x:\n",
        "        return arr[mid]\n",
        "    abs_mid = abs(arr[mid] - x)\n",
        "    if mid > 0:\n",
        "        abs_left = abs(arr[mid - 1] - x)\n",
        "        if abs_left < abs_mid:\n",
        "            return closestNumber(arr, low, mid - 1, x)\n",
        "    if mid < high:\n",
        "        abs_right = abs(arr[mid + 1] - x)\n",
        "        if abs_right < abs_mid:\n",
        "            return closestNumber(arr, mid + 1, high, x)\n",
        "    return arr[mid]\n",
        "\n",
        "arr = [2, 5, 6, 7, 8, 8, 9]\n",
        "x = 9\n",
        "print(closestNumber(arr, 0, len(arr) - 1, x))"
      ],
      "metadata": {
        "colab": {
          "base_uri": "https://localhost:8080/"
        },
        "id": "hBeCxmt8y4yv",
        "outputId": "be2e1b33-3624-4b2d-866a-4e8a027ff77e"
      },
      "execution_count": 64,
      "outputs": [
        {
          "output_type": "stream",
          "name": "stdout",
          "text": [
            "9\n"
          ]
        }
      ]
    },
    {
      "cell_type": "code",
      "source": [
        "def find_closest(lst, k):\n",
        "    lst.sort()\n",
        "    closest_num = lst[0]\n",
        "    for num in lst:\n",
        "        if abs(num - k) < abs(closest_num - k):\n",
        "            closest_num = num\n",
        "        if num > k:\n",
        "            break\n",
        "    return closest_num\n",
        "\n",
        "lst = [3.64, 5.2, 9.42, 9.35, 8.5, 8]\n",
        "k = 9.1\n",
        "print(find_closest(lst, k))\n",
        "\n",
        "lst = [2, 5, 5, 7, 8, 8, 9]\n",
        "k = 6\n",
        "print(find_closest(lst, k))"
      ],
      "metadata": {
        "colab": {
          "base_uri": "https://localhost:8080/"
        },
        "id": "quXeQchnzgcT",
        "outputId": "e4a86ecb-ff35-4c35-ffb2-a23fe7ee086c"
      },
      "execution_count": 66,
      "outputs": [
        {
          "output_type": "stream",
          "name": "stdout",
          "text": [
            "9.35\n",
            "5\n"
          ]
        }
      ]
    },
    {
      "cell_type": "markdown",
      "source": [
        "**Fixed Point**\n",
        "\n",
        "Mencari nilai fixed point, yaitu suatu bilangan dalam array yang nilainya sama dengan urutannya dalam array. Array dimulai dari 0. Jika tidak ada yang sama, hasil akan bernilai -1."
      ],
      "metadata": {
        "id": "NkOQ192_z9Q-"
      }
    },
    {
      "cell_type": "code",
      "source": [
        "def fixedPoint(arr, low, high):\n",
        "\n",
        "    result = []\n",
        "\n",
        "    if low > high:\n",
        "        return -1\n",
        "    if arr[high] == high:\n",
        "        return arr[high]\n",
        "    if arr[low] == low:\n",
        "        return arr[low]\n",
        "    mid = (low + high) // 2\n",
        "    if arr[mid] == mid:\n",
        "        return arr[mid]\n",
        "    if mid > arr[mid]:\n",
        "        return fixedPoint(arr, mid + 1, high)\n",
        "    else:\n",
        "        return fixedPoint(arr, low, mid - 1)\n",
        "\n",
        "arr = [9, 1, 4, 5, 2]\n",
        "print(fixedPoint(arr, 0, len(arr) - 1))"
      ],
      "metadata": {
        "colab": {
          "base_uri": "https://localhost:8080/"
        },
        "id": "B3UHqs7F0B4b",
        "outputId": "c8b659d5-3b0e-42fc-d27a-b9580bace8e0"
      },
      "execution_count": 74,
      "outputs": [
        {
          "output_type": "stream",
          "name": "stdout",
          "text": [
            "1\n"
          ]
        }
      ]
    }
  ]
}
