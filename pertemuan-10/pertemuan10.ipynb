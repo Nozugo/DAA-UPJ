{
  "nbformat": 4,
  "nbformat_minor": 0,
  "metadata": {
    "colab": {
      "provenance": []
    },
    "kernelspec": {
      "name": "python3",
      "display_name": "Python 3"
    },
    "language_info": {
      "name": "python"
    }
  },
  "cells": [
    {
      "cell_type": "markdown",
      "source": [
        "# Pertemuan 10 - Desain dan Analisis Algoritma\n",
        "---\n",
        "\n",
        "`Nama:` Muhammad Satrio\n",
        "\n",
        "`NIM:` 2022071059"
      ],
      "metadata": {
        "id": "WYeARiorlGp9"
      }
    },
    {
      "cell_type": "code",
      "source": [
        "pip install pulp"
      ],
      "metadata": {
        "colab": {
          "base_uri": "https://localhost:8080/"
        },
        "id": "crf8-pExy6GD",
        "outputId": "c3db0150-5914-40f0-cb73-2899628b8b9b"
      },
      "execution_count": 1,
      "outputs": [
        {
          "output_type": "stream",
          "name": "stdout",
          "text": [
            "Collecting pulp\n",
            "  Downloading PuLP-2.7.0-py3-none-any.whl (14.3 MB)\n",
            "\u001b[2K     \u001b[90m━━━━━━━━━━━━━━━━━━━━━━━━━━━━━━━━━━━━━━━━\u001b[0m \u001b[32m14.3/14.3 MB\u001b[0m \u001b[31m39.1 MB/s\u001b[0m eta \u001b[36m0:00:00\u001b[0m\n",
            "\u001b[?25hInstalling collected packages: pulp\n",
            "Successfully installed pulp-2.7.0\n"
          ]
        }
      ]
    },
    {
      "cell_type": "code",
      "source": [
        "import pulp\n",
        "\n",
        "# Instantiate our problem class\n",
        "model = pulp.LpProblem(\"ProfitMaximisingProblem\", pulp.LpMaximize)\n",
        "A = pulp.LpVariable('A', lowBound=0, cat='Integer')\n",
        "B = pulp.LpVariable('B', lowBound=0, cat='Integer')\n",
        "\n",
        "# Objective function\n",
        "model += 4200 * A + 2800 * B, \"Profit\"\n",
        "\n",
        "# Constraints\n",
        "model += 3 * A + 2 * B <= 20\n",
        "model += 4 * A + 3 * B <= 30\n",
        "model += 4 * A + 3 * B <= 44\n",
        "\n",
        "# Solve our problem\n",
        "model.solve()\n",
        "pulp.LpStatus[model.status]\n",
        "\n",
        "print(A.varValue)\n",
        "print(B.varValue)\n",
        "print(pulp.value(model.objective))"
      ],
      "metadata": {
        "id": "jPlepv2ypW01",
        "colab": {
          "base_uri": "https://localhost:8080/"
        },
        "outputId": "099770e8-4a55-4e37-9891-1aa4371a646c"
      },
      "execution_count": 2,
      "outputs": [
        {
          "output_type": "stream",
          "name": "stdout",
          "text": [
            "6.0\n",
            "1.0\n",
            "28000.0\n"
          ]
        }
      ]
    },
    {
      "cell_type": "markdown",
      "source": [
        "## Latihan"
      ],
      "metadata": {
        "id": "ny-7dJTzyQO-"
      }
    },
    {
      "cell_type": "code",
      "source": [
        "# 4x + 3y = 34\n",
        "import pulp\n",
        "\n",
        "model = pulp.LpProblem(name=\"Pemecahan_Persamaan\", sense=pulp.LpMaximize)\n",
        "\n",
        "x = pulp.LpVariable('x', lowBound=0, cat='Integer')\n",
        "y = pulp.LpVariable('y', lowBound=0, cat='Integer')\n",
        "\n",
        "\n",
        "model += 4 * x + 3 * y == 34\n",
        "print(model)\n",
        "\n",
        "model.solve()\n",
        "\n",
        "print(\"Status:\", model.status)\n",
        "print(\"Nilai x =\", x.varValue)\n",
        "print(\"Nilai y =\", y.varValue)"
      ],
      "metadata": {
        "colab": {
          "base_uri": "https://localhost:8080/"
        },
        "id": "FVNDCnNxsPJn",
        "outputId": "7320f7d8-dcbf-4ea4-cca5-2a8d87681f07"
      },
      "execution_count": 3,
      "outputs": [
        {
          "output_type": "stream",
          "name": "stdout",
          "text": [
            "Pemecahan_Persamaan:\n",
            "MAXIMIZE\n",
            "None\n",
            "SUBJECT TO\n",
            "_C1: 4 x + 3 y = 34\n",
            "\n",
            "VARIABLES\n",
            "0 <= x Integer\n",
            "0 <= y Integer\n",
            "\n",
            "Status: 1\n",
            "Nilai x = 7.0\n",
            "Nilai y = 2.0\n"
          ]
        }
      ]
    },
    {
      "cell_type": "code",
      "source": [
        "# 5x + y = 37\n",
        "\n",
        "model = pulp.LpProblem(name=\"Pemecahan_Persamaan\", sense=pulp.LpMinimize)\n",
        "\n",
        "x = pulp.LpVariable('x', lowBound=0, cat='Integer')\n",
        "y = pulp.LpVariable('y', lowBound=0, cat='Integer')\n",
        "\n",
        "model += 5 * x + y == 37\n",
        "\n",
        "model.solve()\n",
        "\n",
        "print(\"Status:\", model.status)\n",
        "print(\"Nilai x =\", x.varValue)\n",
        "print(\"Nilai y =\", y.varValue)"
      ],
      "metadata": {
        "colab": {
          "base_uri": "https://localhost:8080/"
        },
        "id": "WsEfLS3Exs2m",
        "outputId": "875a3eea-1b1e-4a95-ad7d-3a2fb492c176"
      },
      "execution_count": 4,
      "outputs": [
        {
          "output_type": "stream",
          "name": "stdout",
          "text": [
            "Status: 1\n",
            "Nilai x = 0.0\n",
            "Nilai y = 37.0\n"
          ]
        }
      ]
    },
    {
      "cell_type": "code",
      "source": [
        "\"\"\"\n",
        "Budi membeli tiga pensil dan empat buku di toko Rana dengan harga Rp 11000,-.\n",
        "Jika Budi membeli lagi sebuah pensil dan tujuh buku ditoko yang sama dengan harga Rp 15000,-.\n",
        "Berapakah harga dua buah pensil dan enam buah buku jika Budi membeli kembali di toko Rana!\n",
        "\"\"\"\n",
        "\n",
        "import pulp\n",
        "\n",
        "model = pulp.LpProblem(name=\"Pemecahan_Persamaan\", sense=pulp.LpMinimize)\n",
        "\n",
        "P = pulp.LpVariable('P', lowBound=0, cat='Integer')\n",
        "B = pulp.LpVariable('B', lowBound=0, cat='Integer')\n",
        "\n",
        "model += 3 * P + 4 * B == 11000\n",
        "model += P + 7 * B == 15000\n",
        "\n",
        "model.solve()\n",
        "\n",
        "pulp.LpStatus[model.status]\n",
        "\n",
        "print(\"Pensil:\", P.varValue)\n",
        "print(\"Buku:\", B.varValue)\n",
        "\n",
        "result = 2 * P.varValue + 6 * B.varValue\n",
        "print(\"Harga 2 pensil =\", 2 * P.varValue)\n",
        "print(\"Harga 6 buku =\", 6 * B.varValue)\n",
        "print(\"Harga 2 pensil dan 6 buku =\", result)"
      ],
      "metadata": {
        "colab": {
          "base_uri": "https://localhost:8080/"
        },
        "id": "fblCiZZY0NIa",
        "outputId": "d6b37b0a-e34d-48cc-9311-b4fb8c7f6793"
      },
      "execution_count": 5,
      "outputs": [
        {
          "output_type": "stream",
          "name": "stdout",
          "text": [
            "Pensil: 1000.0\n",
            "Buku: 2000.0\n",
            "Harga 2 pensil = 2000.0\n",
            "Harga 6 buku = 12000.0\n",
            "Harga 2 pensil dan 6 buku = 14000.0\n"
          ]
        }
      ]
    },
    {
      "cell_type": "code",
      "source": [
        "\"\"\"\n",
        "Keliling sebuah persegi panjang sama dengan 44 cm.\n",
        "Jika lebarnya 6 cm lebih pendek dari panjangnya, carilah panjang dan lebar dari persegi panjang tersebut.\n",
        "\"\"\"\n",
        "\n",
        "import pulp\n",
        "\n",
        "model = pulp.LpProblem(name='Panjang_Lebar_Persegi_Panjang', sense=pulp.LpMaximize)\n",
        "\n",
        "P = pulp.LpVariable('P', lowBound=0, cat='Integer')\n",
        "L = pulp.LpVariable('L', lowBound=0, cat='Integer')\n",
        "\n",
        "model += 2 * P + 2 * L == 44\n",
        "model += L == P - 6\n",
        "\n",
        "model.solve()\n",
        "pulp.LpStatus[model.status]\n",
        "\n",
        "print(\"Panjang:\", P.varValue)\n",
        "print(\"Lebar:\", L.varValue)"
      ],
      "metadata": {
        "colab": {
          "base_uri": "https://localhost:8080/"
        },
        "id": "3WPSYj0R3VFg",
        "outputId": "015fb522-9451-4e01-a519-cc730afb6a96"
      },
      "execution_count": 6,
      "outputs": [
        {
          "output_type": "stream",
          "name": "stdout",
          "text": [
            "Panjang: 14.0\n",
            "Lebar: 8.0\n"
          ]
        }
      ]
    },
    {
      "cell_type": "markdown",
      "source": [
        "## Scipy"
      ],
      "metadata": {
        "id": "c7GqFwI69ldU"
      }
    },
    {
      "cell_type": "code",
      "source": [
        "import numpy as np\n",
        "from scipy.optimize import linprog\n",
        "\n",
        "# Set the inequality constraints matrix\n",
        "# Note: the inequality constraints must be in the form of <=\n",
        "\n",
        "A = np.array([\n",
        "                [1, 0],\n",
        "                [2, 3],\n",
        "                [1, 1],\n",
        "                [-1, 0],\n",
        "                [0, -1]\n",
        "            ])\n",
        "# Set the inequality constraints cector\n",
        "B = np.array([16, 19, 8, 0, 0])\n",
        "\n",
        "# Set the coefficients of the linear objective function vector\n",
        "# Note: when maximizing, change the signs of the c vector coefficient\n",
        "c = np.array([-5, -7])\n",
        "\n",
        "# Solve linear programming problem\n",
        "res = linprog(c, A_ub=A, b_ub=B)\n",
        "\n",
        "# Print results\n",
        "print(\"Optimal value:\", round(res.fun*-1, ndigits=2),\n",
        "      \"\\nx values:\", res.x,\n",
        "      \"\\nNumber of iterations performed:\", res.nit,\n",
        "      \"\\nStatus:\", res.message)"
      ],
      "metadata": {
        "colab": {
          "base_uri": "https://localhost:8080/"
        },
        "id": "hA_CH-So9m3r",
        "outputId": "d3651ea1-369f-483f-befd-ab70abea6619"
      },
      "execution_count": 7,
      "outputs": [
        {
          "output_type": "stream",
          "name": "stdout",
          "text": [
            "Optimal value: 46.0 \n",
            "x values: [5. 3.] \n",
            "Number of iterations performed: 3 \n",
            "Status: Optimization terminated successfully. (HiGHS Status 7: Optimal)\n"
          ]
        }
      ]
    },
    {
      "cell_type": "code",
      "source": [
        "# Impor modul yang diperlukan dari SciPy:\n",
        "\n",
        "from scipy.optimize import linprog\n",
        "\n",
        "# 2. Tentukan koefisien fungsi tujuan dan matriks batasan:\n",
        "\n",
        "# Koefisien fungsi tujuan (Z = 5x1 + 7x2)\n",
        "C = [-5, -7]\n",
        "\n",
        "# Koefisien matriks batasan\n",
        "A = [\n",
        "    [1, 0], # 1x1 + 0x2 <= 16\n",
        "    [2, 3], # 2x1 + 3x2 <= 19\n",
        "    [1, 1] # 1x1 + 1x2 <= 8\n",
        "]\n",
        "\n",
        "# Batasan kanan (rhs) dari masing-masing batasan\n",
        "b = [16, 19, 8]\n",
        "\n",
        "# 3. Tentukan batasan variabel x1 dan x2 sebagai variabel non-negatif\n",
        "x1_bounds = (0, None) # x1 >= 0\n",
        "x2_bounds = (0, None) # x2 >= 0\n",
        "\n",
        "# 4. Gunakan linprog untuk menyelesaikan masalah pemrograman linear:\n",
        "\n",
        "result = linprog(c, A_ub=A, b_ub=b, bounds=[x1_bounds, x2_bounds], method=\"highs\")\n",
        "\n",
        "# 5. Tampilkan hasilnya:\n",
        "\n",
        "# Hasil Optimasi\n",
        "print(\"Optimal Solution:\")\n",
        "print(\"x1 =\", result.x[0])\n",
        "print(\"x2 =\", result.x[1])\n",
        "print(\"Max Z =\", -result.fun) # Karena tujuannya adalah memaksimalkan -Z"
      ],
      "metadata": {
        "colab": {
          "base_uri": "https://localhost:8080/"
        },
        "id": "7vNiIVeaBqxq",
        "outputId": "9feffad9-a971-4883-a2ca-a609685f4823"
      },
      "execution_count": 8,
      "outputs": [
        {
          "output_type": "stream",
          "name": "stdout",
          "text": [
            "Optimal Solution:\n",
            "x1 = 5.0\n",
            "x2 = 3.0\n",
            "Max Z = 46.0\n"
          ]
        }
      ]
    },
    {
      "cell_type": "markdown",
      "source": [
        "## Latihan"
      ],
      "metadata": {
        "id": "3fqjAEbGGugo"
      }
    },
    {
      "cell_type": "code",
      "source": [
        "# 4x + 12y <= 28\n",
        "\n",
        "from scipy.optimize import linprog\n",
        "\n",
        "c = [-1, -1]\n",
        "\n",
        "A = [[4, 12]]\n",
        "b = [28]\n",
        "\n",
        "x = (0, None)\n",
        "y = (0, None)\n",
        "\n",
        "result = linprog(c, A_ub=A, b_ub=b, bounds=[x, y], method='highs')\n",
        "\n",
        "print(\"Optimal Solution:\")\n",
        "print(\"x:\", result.x[0])\n",
        "print(\"y:\", result.x[1])"
      ],
      "metadata": {
        "colab": {
          "base_uri": "https://localhost:8080/"
        },
        "id": "8AsuBoSzGvQP",
        "outputId": "aa8f8d49-8f91-4ca8-f601-6e9d1ec85d95"
      },
      "execution_count": 1,
      "outputs": [
        {
          "output_type": "stream",
          "name": "stdout",
          "text": [
            "Optimal Solution:\n",
            "x: 7.0\n",
            "y: 0.0\n"
          ]
        }
      ]
    },
    {
      "cell_type": "code",
      "source": [
        "# 2x + y <= 21\n",
        "\n",
        "from scipy.optimize import linprog\n",
        "\n",
        "c = [-1, -1]\n",
        "A = [[2, 1]]\n",
        "b = [21]\n",
        "\n",
        "x = (0, None)\n",
        "y = (0, None)\n",
        "\n",
        "result = linprog(c, A_ub=A, b_ub=b, bounds=[x, y], method='highs')\n",
        "\n",
        "print(\"Optimal Solution:\")\n",
        "print(\"x:\", result.x[0])\n",
        "print(\"y:\", result.x[1])"
      ],
      "metadata": {
        "colab": {
          "base_uri": "https://localhost:8080/"
        },
        "id": "WrrKDabWRp7h",
        "outputId": "4623036c-646a-422a-c89c-056c6ab2614b"
      },
      "execution_count": 2,
      "outputs": [
        {
          "output_type": "stream",
          "name": "stdout",
          "text": [
            "Optimal Solution:\n",
            "x: 0.0\n",
            "y: 21.0\n"
          ]
        }
      ]
    },
    {
      "cell_type": "code",
      "source": [
        "\"\"\"\n",
        "3x + 4y = 55\n",
        "x + y = 16\n",
        "\"\"\"\n",
        "\n",
        "\n",
        "from scipy.optimize import linprog\n",
        "\n",
        "c = [-1, -1]\n",
        "A = [\n",
        "    [3, 4],\n",
        "    [1, 1]\n",
        "]\n",
        "b = [55, 16]\n",
        "\n",
        "x = (0, None)\n",
        "y = (0, None)\n",
        "\n",
        "result = linprog(c, A_ub=A, b_ub=b, bounds=[x, y], method='highs')\n",
        "\n",
        "print(\"Optimal Solution:\")\n",
        "print(\"x:\", result.x[0])\n",
        "print(\"y:\", result.x[1])\n",
        "print(\"max z:\", -result.fun)\n"
      ],
      "metadata": {
        "colab": {
          "base_uri": "https://localhost:8080/"
        },
        "id": "mSLvNMtnTq5i",
        "outputId": "de4d4c74-f019-4965-b5b4-00899101c566"
      },
      "execution_count": 9,
      "outputs": [
        {
          "output_type": "stream",
          "name": "stdout",
          "text": [
            "Optimal Solution:\n",
            "x: 9.000000000000002\n",
            "y: 6.999999999999998\n",
            "max z: 16.0\n"
          ]
        }
      ]
    }
  ]
}
