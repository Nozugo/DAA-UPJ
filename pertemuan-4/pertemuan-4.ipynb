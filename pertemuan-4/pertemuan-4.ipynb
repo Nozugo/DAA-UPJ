{
  "nbformat": 4,
  "nbformat_minor": 0,
  "metadata": {
    "colab": {
      "provenance": []
    },
    "kernelspec": {
      "name": "python3",
      "display_name": "Python 3"
    },
    "language_info": {
      "name": "python"
    }
  },
  "cells": [
    {
      "cell_type": "markdown",
      "source": [
        "# Pertemuan 4 - Desain dan Analisis Algoritma\n",
        "---\n",
        "`Nama:` Muhammad Satrio\n",
        "\n",
        "`NIM:` 2022071059"
      ],
      "metadata": {
        "id": "LDVodF61ZgZf"
      }
    },
    {
      "cell_type": "markdown",
      "source": [
        "## Algoritma Sorting\n",
        "---"
      ],
      "metadata": {
        "id": "plOr6jKsXyVN"
      }
    },
    {
      "cell_type": "markdown",
      "source": [
        "## Bubble Sort"
      ],
      "metadata": {
        "id": "Aw94VHCPaVqR"
      }
    },
    {
      "cell_type": "code",
      "source": [
        "# Bubble Sort\n",
        "\n",
        "def BubbleSort(list):\n",
        "  # Set the last element as the end of the unsorted section\n",
        "  lastElementIndex = len(list) - 1\n",
        "\n",
        "  # Loop through the unsorted section\n",
        "  for passNo in range(lastElementIndex, 0, -1):\n",
        "    # Loop through the current section\n",
        "    for idx in range(passNo):\n",
        "      # Compare the current element with the next one\n",
        "      if list[idx] > list[idx + 1]:\n",
        "        # Swap the elements if they are out of order\n",
        "        list[idx], list[idx + 1] = list[idx + 1], list[idx]\n",
        "\n",
        "  return list\n",
        "\n",
        "\n",
        "# Masukkan angka dengan urutan lainnya\n",
        "list = [25, 21, 22, 24, 23, 27, 26]\n",
        "\n",
        "\n",
        "# Cetak daftar\n",
        "print(list)\n",
        "\n",
        "\n",
        "# Urut daftar\n",
        "list = BubbleSort(list)\n",
        "\n",
        "\n",
        "# Cetak daftar yang telah diurutkan\n",
        "print(list)"
      ],
      "metadata": {
        "id": "tiAAKC08WyAA"
      },
      "execution_count": null,
      "outputs": []
    },
    {
      "cell_type": "markdown",
      "source": [
        "**Loop luar:** Ini juga disebut pass. Misalnya, pass satu adalah iterasi pertama dari loop luar.\n",
        "\n",
        "**Loop dalam:** Ini adalah saat elemen yang tidak diurutkan yang tersisa dalam daftar diurutkan, hingga nilai tertinggi digelembungkan ke kanan. Lintasan pertama akan memiliki perbandingan N-1, lintasan kedua akan memiliki perbandingan N-2, dan setiap lintasan berikutnya akan mengurangi jumlah perbandingan satu per satu.\n",
        "\n",
        "Karena dua tingkat perulangan, kompleksitas runtime kasus terburuk adalah O(n2)."
      ],
      "metadata": {
        "id": "CLAochD6Wgc8"
      }
    },
    {
      "cell_type": "markdown",
      "source": [
        "## Insertion Sort"
      ],
      "metadata": {
        "id": "nYcUgRvwU5NJ"
      }
    },
    {
      "cell_type": "markdown",
      "source": [
        "Jika struktur data sudah diurutkan, insertion sort akan berjalan dengan sangat cepat. Bahkan, jika struktur data diurutkan, maka insertion sort akan memiliki waktu berjalan linier; yaitu, O(n). Worst case adalah saat setiap loop dalam harus memindahkan semua elemen dalam list. Jika loop dalam ditentukan oleh i, performa terburuk dari algorita insertion sort diberikan sebagai berikut: Secara umum, insertion dapat digunakan pada struktur data kecil. Untuk struktur data yang lebih besar, insertion sort tidak disarankan karena performa rata-rata kuadratiknya."
      ],
      "metadata": {
        "id": "z2ZxXJVuV36f"
      }
    },
    {
      "cell_type": "code",
      "source": [
        "# Insertion Sort\n",
        "\n",
        "def InsertionSort(list):\n",
        "  for i in range(1, len(list)):\n",
        "    j = i - 1\n",
        "    next = list[i]\n",
        "\n",
        "    # Compare the current element with next one\n",
        "    while (list[j] > next) and (j >= 0):\n",
        "      list[j + 1] = list[j]\n",
        "      j -= 1\n",
        "\n",
        "    list[j + 1] = next\n",
        "  return list\n",
        "\n",
        "\n",
        "# Masukkan angka dengan urutan lainnya\n",
        "list = [35, 31, 32, 34, 33, 37, 36]\n",
        "\n",
        "\n",
        "# Cetak daftar\n",
        "print(list)\n",
        "\n",
        "\n",
        "# Urut daftar\n",
        "list = InsertionSort(list)\n",
        "\n",
        "\n",
        "# Cetak daftar yang telah diurutkan\n",
        "print(list)"
      ],
      "metadata": {
        "id": "47KGPb34Vjvx"
      },
      "execution_count": null,
      "outputs": []
    },
    {
      "cell_type": "markdown",
      "source": [
        "## Selection Sort"
      ],
      "metadata": {
        "id": "Qt3eEkLWTwua"
      }
    },
    {
      "cell_type": "markdown",
      "source": [
        "Performa terburuk dari sort selection adalah O(n2). Perhatikan bahwa kinerja terburuknya mirip dengan bubble sort dan tidak boleh digunakan untuk menyortir kumpulan data yang lebih besar. Namun, selection sort adalah algoritma yang dirancang lebih baik daripada bubble sort dan kinerja rata-ratanya lebih baik daripada bubble sort karena pengurangan jumlah penukarannya."
      ],
      "metadata": {
        "id": "WUXyhSvZT7kW"
      }
    },
    {
      "cell_type": "code",
      "source": [
        "# Selection Sort\n",
        "\n",
        "def SelectionSort(list):\n",
        "  # Loop through the list\n",
        "  for fill_slot in range(len(list) - 1, 0, -1):\n",
        "    # Find the maximum element in the unsorted section\n",
        "    max_index = 0\n",
        "    for location in range(1, fill_slot + 1):\n",
        "      if list[location] > list[max_index]:\n",
        "        max_index = location\n",
        "\n",
        "    # Swap the maximum element with the element at the fill slot\n",
        "    list[fill_slot], list[max_index] = list[max_index], list[fill_slot]\n",
        "  return list\n",
        "\n",
        "\n",
        "# Masukkan angka dengan urutan lainnya\n",
        "list = [25, 21, 22, 24, 23, 27, 26]\n",
        "\n",
        "\n",
        "# Cetak daftar\n",
        "print(list)\n",
        "\n",
        "\n",
        "# Urut daftar\n",
        "list = SelectionSort(list)\n",
        "\n",
        "\n",
        "# Cetak daftar yang telah diurutkan\n",
        "print(list)\n"
      ],
      "metadata": {
        "id": "t9r6DTVjXdi6"
      },
      "execution_count": null,
      "outputs": []
    },
    {
      "cell_type": "markdown",
      "source": [
        "## Algoritma Searching\n",
        "---"
      ],
      "metadata": {
        "id": "6tkbGoaGXmu5"
      }
    },
    {
      "cell_type": "markdown",
      "source": [
        "Searching atau pencarian data secara efisien dalam struktur data yang kompleks adalah salah satu fungsi terpenting. Pendekatan paling sederhana, yang tidak akan seefisien itu, adalah menelusuri data yang diperlukan di setiap titik data. Namun, seiring dengan semakin besarnya ukuran data, membutuhkan algoritma yang lebih canggih yang dirancang untuk menelusuri data."
      ],
      "metadata": {
        "id": "ZRZUotllXn1u"
      }
    },
    {
      "cell_type": "markdown",
      "source": [
        "## Linear Search"
      ],
      "metadata": {
        "id": "dOMgIsSTX6te"
      }
    },
    {
      "cell_type": "markdown",
      "source": [
        "Salah satu strategi paling sederhana untuk menelusuri data adalah dengan mengulang setiap elemen untuk mencari target. Setiap titik data ditelusuri untuk mencari kecocokan dan saat kecocokan ditemukan, hasilnya ditampilkan dan algoritme keluar dari loop. Jika tidak, algoritma akan terus menelusuri hingga mencapai akhir data. Kerugian yang jelas dari linier search adalah sangat lambat karena penelusuran lengkap yang melekat. Keuntungannya adalah data tidak perlu diurutkan, seperti yang disyaratkan oleh algoritma lain yang disajikan dalam bab ini"
      ],
      "metadata": {
        "id": "rZ9K8cQCX_Fc"
      }
    },
    {
      "cell_type": "code",
      "source": [
        "def LinearSearch(list, item):\n",
        "    index = 0\n",
        "    found = False\n",
        "\n",
        "    while index < len(list) and found is False:\n",
        "        if list[index] == item:\n",
        "            found = True\n",
        "        else:\n",
        "            index += 1\n",
        "    return found\n",
        "\n",
        "list = [12, 33, 11, 99, 22, 55, 90]\n",
        "print(LinearSearch(list, 12))\n",
        "print(LinearSearch(list, 91))"
      ],
      "metadata": {
        "id": "87VSo0xwbUgS"
      },
      "execution_count": null,
      "outputs": []
    },
    {
      "cell_type": "markdown",
      "source": [
        "## Binary Search"
      ],
      "metadata": {
        "id": "goQ8NVXvbvTU"
      }
    },
    {
      "cell_type": "markdown",
      "source": [
        "Prasyarat dari algoritma binary search adalah data yang diurutkan. Algoritma secara iteratif membagi daftar menjadi dua bagian dan melacak indeks terendah dan tertinggi hingga menemukan nilai yang dicari."
      ],
      "metadata": {
        "id": "QGvggMiMbx1F"
      }
    },
    {
      "cell_type": "code",
      "source": [
        "my_list = [12, 33, 11, 99, 22, 55, 90]\n",
        "\n",
        "sorted_list = BubbleSort(my_list)\n",
        "\n",
        "def BinarySearch(list, item):\n",
        "    found = False\n",
        "    first = 0\n",
        "    last = 0\n",
        "\n",
        "    while found is False and first <= last:\n",
        "        midpoint = (first + last) // 2\n",
        "        if item == list[midpoint]:\n",
        "            found = True\n",
        "            print(\"found\")\n",
        "            break\n",
        "        else:\n",
        "            if list.index(item) > midpoint:\n",
        "                first = midpoint + 1\n",
        "                last = len(list) - 1\n",
        "            else:\n",
        "                last = midpoint - 1\n",
        "\n",
        "BinarySearch(sorted_list, 55)"
      ],
      "metadata": {
        "colab": {
          "base_uri": "https://localhost:8080/"
        },
        "id": "-USg5v7Devys",
        "outputId": "44158fd3-3925-4b61-967a-501fc75a8acd"
      },
      "execution_count": 81,
      "outputs": [
        {
          "output_type": "stream",
          "name": "stdout",
          "text": [
            "found\n"
          ]
        }
      ]
    },
    {
      "cell_type": "markdown",
      "source": [
        "## Interpolation Search"
      ],
      "metadata": {
        "id": "Skpyu0XnmIzx"
      }
    },
    {
      "cell_type": "markdown",
      "source": [
        "Jika binary search didasarkan pada logika yang berfokus pada bagian tengah data. interpolation lebih canggih. Algoritma ini menggunakan nilai target untuk memperkirakan posisi elemen dalam array yang diurutkan. Coba memahaminya dengan menggunakan sebuah contoh. Asumsikan kita ingin mencari sebuah kata dalam kamus bahasa Inggris, seperti kata `river`. Kami akan menggunakan informasi ini untuk interpolasi dan mulai mencari kata-kata yang dimulai dengan `r`."
      ],
      "metadata": {
        "id": "DpIKs6AkmK0d"
      }
    },
    {
      "cell_type": "code",
      "source": [
        "def IntPolsearch(list, x):\n",
        "    idx0 = 0\n",
        "    idxn = (len(list) - 1)\n",
        "    found = False\n",
        "    while idx0 <= idxn and x >= list[idx0] and x <= list[idxn]:\n",
        "        mid = idx0 + int(((float(idxn - idx0) / (list[idxn] - list[idx0])) * (x - list[idx0])))\n",
        "\n",
        "        if list[mid] == x:\n",
        "            found = True\n",
        "            return found\n",
        "\n",
        "        if list[mid] < x:\n",
        "            idx0 = mid + 1\n",
        "\n",
        "    return found\n",
        "\n",
        "list = [12, 33, 11, 99, 22, 55, 90]\n",
        "sorted_list = BubbleSort(list)\n",
        "print(IntPolsearch(sorted_list, 22))\n"
      ],
      "metadata": {
        "colab": {
          "base_uri": "https://localhost:8080/"
        },
        "id": "3nW15KwRnalC",
        "outputId": "061b6738-35b9-4160-9b26-f5dd59d8feee"
      },
      "execution_count": 94,
      "outputs": [
        {
          "output_type": "stream",
          "name": "stdout",
          "text": [
            "True\n"
          ]
        }
      ]
    },
    {
      "cell_type": "markdown",
      "source": [
        "## Latihan"
      ],
      "metadata": {
        "id": "0qDEUB1C4k0g"
      }
    },
    {
      "cell_type": "code",
      "source": [
        "# No 1\n",
        "# TODO: Buat fungsi swap dengan menambahkan variabel ketiga bernama var3!\n",
        "\n",
        "var1 = 1\n",
        "var2 = 2\n",
        "print(var1, var2) # 1 2\n",
        "\n",
        "# swap\n",
        "var3 = var1\n",
        "var1 = var2\n",
        "var2 = var3\n",
        "\n",
        "print(var1, var2) # 2 1"
      ],
      "metadata": {
        "id": "sXYCJCaMZkPe"
      },
      "execution_count": null,
      "outputs": []
    },
    {
      "cell_type": "code",
      "source": [
        "# No 2\n",
        "\"\"\"\n",
        "TODO:\n",
        "  Urutkan deret bilangan di bawah ini menggunakan metode sorting bubble sort!\n",
        "  100  20  60  90  40  30  10\n",
        "\"\"\"\n",
        "\n",
        "my_list = [100, 20, 60, 90, 40, 30, 10]\n",
        "\n",
        "def bubble_sort(list):\n",
        "    wall = len(list)\n",
        "    i = 0\n",
        "    swap = 0\n",
        "\n",
        "    while i < wall:\n",
        "        if list[i] > list[i+1]:\n",
        "            list[i], list[i+1] = list[i+1], list[i]\n",
        "            swap += 1\n",
        "        if (i+1) == (wall-1):\n",
        "            if swap > 0:\n",
        "                i = -1\n",
        "                wall -= 1\n",
        "            else:\n",
        "                break\n",
        "            swap = 0\n",
        "        i += 1\n",
        "\n",
        "    return list\n",
        "\n",
        "print(bubble_sort(my_list)) # [10, 20, 30, 40, 60, 90, 100]"
      ],
      "metadata": {
        "id": "leW2m_WH3uyE"
      },
      "execution_count": null,
      "outputs": []
    },
    {
      "cell_type": "code",
      "source": [
        "# No 3\n",
        "\"\"\"\n",
        "TODO:\n",
        "  Urutkan deret bilangan di bawah ini menggunakan metode sorting insertion sort!\n",
        "  89  12  57  16  25  11  75\n",
        "\"\"\"\n",
        "\n",
        "my_list = [89, 12, 57, 16, 25, 11, 75]\n",
        "\n",
        "def insertion_sort(list):\n",
        "    temp = 0\n",
        "    for i in range (1, len(list)):\n",
        "        temp = list[i]\n",
        "        for j in range (i-1, -1, -1):\n",
        "            if temp < list[j]:\n",
        "                list[j], list[j+1] = temp, list[j]\n",
        "                continue\n",
        "    return list\n",
        "\n",
        "print(insertion_sort(my_list))\n"
      ],
      "metadata": {
        "colab": {
          "base_uri": "https://localhost:8080/"
        },
        "id": "8Z7zYPqh8rzu",
        "outputId": "0d8d6cd5-463a-4052-901c-336d4c5ea769"
      },
      "execution_count": null,
      "outputs": [
        {
          "output_type": "stream",
          "name": "stdout",
          "text": [
            "[11, 12, 16, 25, 57, 75, 89]\n"
          ]
        }
      ]
    },
    {
      "cell_type": "code",
      "source": [
        "# No 4\n",
        "\"\"\"\n",
        "TODO:\n",
        "  Tentukan prosedur pengurutan deret secara ascending menggunakan metode sorting selection sort!\n",
        "  89 12 57 16 25\n",
        "\"\"\"\n",
        "\n",
        "my_list = [89, 12, 57, 16, 25]\n",
        "\n",
        "def selection_sort(list):\n",
        "    for i in range(0, len(list)):\n",
        "        minimum_index = i\n",
        "        for j in range(i+1, len(list)):\n",
        "            if list[j] < list[minimum_index]:\n",
        "                minimum_index = j\n",
        "        list[i], list[minimum_index] = list[minimum_index], list[i]\n",
        "    return list\n",
        "\n",
        "print(selection_sort(my_list))"
      ],
      "metadata": {
        "colab": {
          "base_uri": "https://localhost:8080/"
        },
        "id": "aH_sGPhNEXY3",
        "outputId": "c4d18169-096c-49c5-e5fe-285ce7f4fd61"
      },
      "execution_count": 50,
      "outputs": [
        {
          "output_type": "stream",
          "name": "stdout",
          "text": [
            "[12, 16, 25, 57, 89]\n"
          ]
        }
      ]
    },
    {
      "cell_type": "code",
      "source": [
        "# No 5\n",
        "\"\"\"\n",
        "TODO:\n",
        "    Cari “a” dari deret huruf di bawah ini menggunakan metode searching linear search!\n",
        "    y  u  i  w  o  a  q  u  j  p\n",
        "\"\"\"\n",
        "\n",
        "my_list = ['y', 'u', 'i', 'w', 'o', 'a', 'q', 'u', 'j', 'p']\n",
        "\n",
        "def linear_search(list, item):\n",
        "    for i in range(0, len(list)):\n",
        "        if list[i] == item:\n",
        "            print(\"Found!\")\n",
        "            break\n",
        "        if i == (len(list) - 1) and list[i] != item:\n",
        "            print(\"Not Found!\")\n",
        "            break\n",
        "\n",
        "linear_search(my_list, 'c')"
      ],
      "metadata": {
        "colab": {
          "base_uri": "https://localhost:8080/"
        },
        "id": "ezkCdMj3ZM8e",
        "outputId": "42887242-de2b-458d-db3b-ea2f2bc0cfda"
      },
      "execution_count": 59,
      "outputs": [
        {
          "output_type": "stream",
          "name": "stdout",
          "text": [
            "Not Found!\n"
          ]
        }
      ]
    },
    {
      "cell_type": "code",
      "source": [
        "# No 6\n",
        "\"\"\"\n",
        "TODO:\n",
        "    Cari “a” dari deret huruf di bawah ini menggunakan metode searching binary search!\n",
        "    y  u  i  w  o  a  q  u  j  p\n",
        "\"\"\"\n",
        "\n",
        "def binary_search(list, item):\n",
        "    first = 0\n",
        "    last = 0\n",
        "    found = False\n",
        "\n",
        "    while first <= last and found is False:\n",
        "        midpoint = (first + last) // 2\n",
        "        if list[midpoint] == item:\n",
        "            found = False\n",
        "            print(\"Found!\")\n",
        "            break\n",
        "        else:\n",
        "            if list.index(item) > midpoint:\n",
        "                first = midpoint + 1\n",
        "                last = len(list) - 1\n",
        "            else:\n",
        "                last = midpoint - 1\n",
        "\n",
        "my_list = ['y', 'u', 'i', 'w', 'o', 'a', 'q', 'u', 'j', 'p']\n",
        "\n",
        "binary_search(my_list, 'q')"
      ],
      "metadata": {
        "colab": {
          "base_uri": "https://localhost:8080/"
        },
        "id": "9-Un-ikDkf8z",
        "outputId": "749407ce-917b-42e0-945c-4846d25f7258"
      },
      "execution_count": 89,
      "outputs": [
        {
          "output_type": "stream",
          "name": "stdout",
          "text": [
            "Found!\n"
          ]
        }
      ]
    },
    {
      "cell_type": "code",
      "source": [
        "# No 7\n",
        "\"\"\"\n",
        "TODO:\n",
        "    Cari “u” dari deret huruf di bawah ini menggunakan metode searching interpolation search!\n",
        "    y  u  i  w  o  a  q  u  j  p\n",
        "\"\"\"\n",
        "\n",
        "def interpolation_search(arr, target):\n",
        "    low = 0\n",
        "    high = len(arr) - 1\n",
        "\n",
        "    my_index = []\n",
        "    target_index = 0\n",
        "    for i in range(1, len(arr)+1):\n",
        "        if i == arr.index(target):\n",
        "            target_index = i+1\n",
        "        my_index.append(i)\n",
        "\n",
        "    while (low <= high) and (target_index >= 0):\n",
        "        pos = low + int((float((high - low) / (my_index[high] - my_index[low])) * (target_index - my_index[high])))\n",
        "\n",
        "        if (pos-1) < 0:\n",
        "            return 0\n",
        "        if arr[pos-1] == target:\n",
        "            return pos\n",
        "        elif pos < target_index:\n",
        "            low = pos + 1\n",
        "        else:\n",
        "            high = pos - 1\n",
        "\n",
        "    return -1\n",
        "\n",
        "letters = ['y', 'u', 'i', 'w', 'o', 'a', 'q', 'u', 'j', 'p']\n",
        "\n",
        "target_char = 'p'\n",
        "\n",
        "result = interpolation_search(letters, target_char)\n",
        "\n",
        "if result != -1:\n",
        "    print(\"Karakter ditemukan!\")\n",
        "else:\n",
        "    print(\"Karakter tidak ditemukan\")\n"
      ],
      "metadata": {
        "colab": {
          "base_uri": "https://localhost:8080/"
        },
        "id": "eHJ6AilNs0JS",
        "outputId": "2a862c0b-cb4a-4675-c292-3be9267efcbb"
      },
      "execution_count": 58,
      "outputs": [
        {
          "output_type": "stream",
          "name": "stdout",
          "text": [
            "Karakter ditemukan!\n"
          ]
        }
      ]
    }
  ]
}
